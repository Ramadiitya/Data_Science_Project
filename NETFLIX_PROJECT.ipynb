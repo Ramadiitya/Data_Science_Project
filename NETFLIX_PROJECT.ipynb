{
  "cells": [
    {
      "cell_type": "code",
      "execution_count": null,
      "metadata": {
        "colab": {
          "base_uri": "https://localhost:8080/",
          "height": 53
        },
        "id": "SPX3m969QabP",
        "outputId": "f66516d1-98b9-4ee4-e3e1-4f55fefb1c8d"
      },
      "outputs": [
        {
          "data": {
            "application/vnd.google.colaboratory.intrinsic+json": {
              "repr_error": "Out of range float values are not JSON compliant: nan",
              "type": "dataframe"
            },
            "text/html": [
              "\n",
              "  <div id=\"df-a20054e1-41c1-4fa9-8c65-11b1f328fdf9\" class=\"colab-df-container\">\n",
              "    <div>\n",
              "<style scoped>\n",
              "    .dataframe tbody tr th:only-of-type {\n",
              "        vertical-align: middle;\n",
              "    }\n",
              "\n",
              "    .dataframe tbody tr th {\n",
              "        vertical-align: top;\n",
              "    }\n",
              "\n",
              "    .dataframe thead th {\n",
              "        text-align: right;\n",
              "    }\n",
              "</style>\n",
              "<table border=\"1\" class=\"dataframe\">\n",
              "  <thead>\n",
              "    <tr style=\"text-align: right;\">\n",
              "      <th></th>\n",
              "      <th>Rank</th>\n",
              "      <th>Title</th>\n",
              "      <th>Type</th>\n",
              "      <th>Premiere</th>\n",
              "      <th>Genre</th>\n",
              "      <th>Watchtime</th>\n",
              "      <th>Watchtime in Million</th>\n",
              "    </tr>\n",
              "  </thead>\n",
              "  <tbody>\n",
              "  </tbody>\n",
              "</table>\n",
              "</div>\n",
              "    <div class=\"colab-df-buttons\">\n",
              "\n",
              "  <div class=\"colab-df-container\">\n",
              "    <button class=\"colab-df-convert\" onclick=\"convertToInteractive('df-a20054e1-41c1-4fa9-8c65-11b1f328fdf9')\"\n",
              "            title=\"Convert this dataframe to an interactive table.\"\n",
              "            style=\"display:none;\">\n",
              "\n",
              "  <svg xmlns=\"http://www.w3.org/2000/svg\" height=\"24px\" viewBox=\"0 -960 960 960\">\n",
              "    <path d=\"M120-120v-720h720v720H120Zm60-500h600v-160H180v160Zm220 220h160v-160H400v160Zm0 220h160v-160H400v160ZM180-400h160v-160H180v160Zm440 0h160v-160H620v160ZM180-180h160v-160H180v160Zm440 0h160v-160H620v160Z\"/>\n",
              "  </svg>\n",
              "    </button>\n",
              "\n",
              "  <style>\n",
              "    .colab-df-container {\n",
              "      display:flex;\n",
              "      gap: 12px;\n",
              "    }\n",
              "\n",
              "    .colab-df-convert {\n",
              "      background-color: #E8F0FE;\n",
              "      border: none;\n",
              "      border-radius: 50%;\n",
              "      cursor: pointer;\n",
              "      display: none;\n",
              "      fill: #1967D2;\n",
              "      height: 32px;\n",
              "      padding: 0 0 0 0;\n",
              "      width: 32px;\n",
              "    }\n",
              "\n",
              "    .colab-df-convert:hover {\n",
              "      background-color: #E2EBFA;\n",
              "      box-shadow: 0px 1px 2px rgba(60, 64, 67, 0.3), 0px 1px 3px 1px rgba(60, 64, 67, 0.15);\n",
              "      fill: #174EA6;\n",
              "    }\n",
              "\n",
              "    .colab-df-buttons div {\n",
              "      margin-bottom: 4px;\n",
              "    }\n",
              "\n",
              "    [theme=dark] .colab-df-convert {\n",
              "      background-color: #3B4455;\n",
              "      fill: #D2E3FC;\n",
              "    }\n",
              "\n",
              "    [theme=dark] .colab-df-convert:hover {\n",
              "      background-color: #434B5C;\n",
              "      box-shadow: 0px 1px 3px 1px rgba(0, 0, 0, 0.15);\n",
              "      filter: drop-shadow(0px 1px 2px rgba(0, 0, 0, 0.3));\n",
              "      fill: #FFFFFF;\n",
              "    }\n",
              "  </style>\n",
              "\n",
              "    <script>\n",
              "      const buttonEl =\n",
              "        document.querySelector('#df-a20054e1-41c1-4fa9-8c65-11b1f328fdf9 button.colab-df-convert');\n",
              "      buttonEl.style.display =\n",
              "        google.colab.kernel.accessAllowed ? 'block' : 'none';\n",
              "\n",
              "      async function convertToInteractive(key) {\n",
              "        const element = document.querySelector('#df-a20054e1-41c1-4fa9-8c65-11b1f328fdf9');\n",
              "        const dataTable =\n",
              "          await google.colab.kernel.invokeFunction('convertToInteractive',\n",
              "                                                    [key], {});\n",
              "        if (!dataTable) return;\n",
              "\n",
              "        const docLinkHtml = 'Like what you see? Visit the ' +\n",
              "          '<a target=\"_blank\" href=https://colab.research.google.com/notebooks/data_table.ipynb>data table notebook</a>'\n",
              "          + ' to learn more about interactive tables.';\n",
              "        element.innerHTML = '';\n",
              "        dataTable['output_type'] = 'display_data';\n",
              "        await google.colab.output.renderOutput(dataTable, element);\n",
              "        const docLink = document.createElement('div');\n",
              "        docLink.innerHTML = docLinkHtml;\n",
              "        element.appendChild(docLink);\n",
              "      }\n",
              "    </script>\n",
              "  </div>\n",
              "\n",
              "    </div>\n",
              "  </div>\n"
            ],
            "text/plain": [
              "Empty DataFrame\n",
              "Columns: [Rank, Title, Type, Premiere, Genre, Watchtime, Watchtime in Million]\n",
              "Index: []"
            ]
          },
          "execution_count": 15,
          "metadata": {},
          "output_type": "execute_result"
        }
      ],
      "source": [
        "import numpy as np\n",
        "import matplotlib as mpl\n",
        "import matplotlib.pyplot as plt\n",
        "import pandas as pd\n",
        "\n",
        "data=pd.read_csv('/content/Flixpatrol.csv1.csv')\n",
        "data[data.duplicated()]\n",
        "rows_with_na=data[data.isna().any(axis=1)]\n",
        "df=data.dropna()\n",
        "df[df.isna().any(axis=1)]\n",
        "#df.head()"
      ]
    },
    {
      "cell_type": "code",
      "execution_count": null,
      "metadata": {
        "colab": {
          "base_uri": "https://localhost:8080/"
        },
        "id": "ea6yD9SIdW9j",
        "outputId": "76fa8742-f01b-4553-87af-4502f1af529c"
      },
      "outputs": [
        {
          "data": {
            "text/plain": [
              "1542"
            ]
          },
          "execution_count": 16,
          "metadata": {},
          "output_type": "execute_result"
        }
      ],
      "source": [
        "len(df[df['Premiere']==2020]['Title'])"
      ]
    },
    {
      "cell_type": "code",
      "execution_count": null,
      "metadata": {},
      "outputs": [],
      "source": [
        "y"
      ]
    },
    {
      "cell_type": "code",
      "execution_count": null,
      "metadata": {
        "colab": {
          "base_uri": "https://localhost:8080/"
        },
        "id": "k9igDxpQXVZM",
        "outputId": "f33bc56e-c811-46ba-c35b-6dd9cb9fbe09"
      },
      "outputs": [
        {
          "data": {
            "text/plain": [
              "array(['TV Show', 'Movie'], dtype=object)"
            ]
          },
          "execution_count": 17,
          "metadata": {},
          "output_type": "execute_result"
        }
      ],
      "source": [
        "df[\"Type\"].unique()"
      ]
    },
    {
      "cell_type": "code",
      "execution_count": null,
      "metadata": {
        "colab": {
          "base_uri": "https://localhost:8080/",
          "height": 423
        },
        "id": "hNABUweatKnb",
        "outputId": "5ff7d361-707b-450a-993e-b005a837a250"
      },
      "outputs": [
        {
          "data": {
            "application/vnd.google.colaboratory.intrinsic+json": {
              "summary": "{\n  \"name\": \"df[df[\\\"Genre\\\"]==\\\"History\\\"]\",\n  \"rows\": 154,\n  \"fields\": [\n    {\n      \"column\": \"Rank\",\n      \"properties\": {\n        \"dtype\": \"number\",\n        \"std\": 5660,\n        \"min\": 22,\n        \"max\": 18205,\n        \"num_unique_values\": 154,\n        \"samples\": [\n          420,\n          6869,\n          18180\n        ],\n        \"semantic_type\": \"\",\n        \"description\": \"\"\n      }\n    },\n    {\n      \"column\": \"Title\",\n      \"properties\": {\n        \"dtype\": \"string\",\n        \"num_unique_values\": 112,\n        \"samples\": [\n          \"The Other Boleyn Girl\",\n          \"Princess Agents\",\n          \"The Empress\"\n        ],\n        \"semantic_type\": \"\",\n        \"description\": \"\"\n      }\n    },\n    {\n      \"column\": \"Type\",\n      \"properties\": {\n        \"dtype\": \"category\",\n        \"num_unique_values\": 2,\n        \"samples\": [\n          \"Movie\",\n          \"TV Show\"\n        ],\n        \"semantic_type\": \"\",\n        \"description\": \"\"\n      }\n    },\n    {\n      \"column\": \"Premiere\",\n      \"properties\": {\n        \"dtype\": \"number\",\n        \"std\": 12.243830394729917,\n        \"min\": 1956.0,\n        \"max\": 2023.0,\n        \"num_unique_values\": 32,\n        \"samples\": [\n          1961.0,\n          2009.0\n        ],\n        \"semantic_type\": \"\",\n        \"description\": \"\"\n      }\n    },\n    {\n      \"column\": \"Genre\",\n      \"properties\": {\n        \"dtype\": \"category\",\n        \"num_unique_values\": 1,\n        \"samples\": [\n          \"History\"\n        ],\n        \"semantic_type\": \"\",\n        \"description\": \"\"\n      }\n    },\n    {\n      \"column\": \"Watchtime\",\n      \"properties\": {\n        \"dtype\": \"string\",\n        \"num_unique_values\": 87,\n        \"samples\": [\n          \"14,00,000\"\n        ],\n        \"semantic_type\": \"\",\n        \"description\": \"\"\n      }\n    },\n    {\n      \"column\": \"Watchtime in Million\",\n      \"properties\": {\n        \"dtype\": \"string\",\n        \"num_unique_values\": 87,\n        \"samples\": [\n          \"1.4M\"\n        ],\n        \"semantic_type\": \"\",\n        \"description\": \"\"\n      }\n    }\n  ]\n}",
              "type": "dataframe"
            },
            "text/html": [
              "\n",
              "  <div id=\"df-57624799-78d2-4c25-81f7-7bb798df8d48\" class=\"colab-df-container\">\n",
              "    <div>\n",
              "<style scoped>\n",
              "    .dataframe tbody tr th:only-of-type {\n",
              "        vertical-align: middle;\n",
              "    }\n",
              "\n",
              "    .dataframe tbody tr th {\n",
              "        vertical-align: top;\n",
              "    }\n",
              "\n",
              "    .dataframe thead th {\n",
              "        text-align: right;\n",
              "    }\n",
              "</style>\n",
              "<table border=\"1\" class=\"dataframe\">\n",
              "  <thead>\n",
              "    <tr style=\"text-align: right;\">\n",
              "      <th></th>\n",
              "      <th>Rank</th>\n",
              "      <th>Title</th>\n",
              "      <th>Type</th>\n",
              "      <th>Premiere</th>\n",
              "      <th>Genre</th>\n",
              "      <th>Watchtime</th>\n",
              "      <th>Watchtime in Million</th>\n",
              "    </tr>\n",
              "  </thead>\n",
              "  <tbody>\n",
              "    <tr>\n",
              "      <th>21</th>\n",
              "      <td>22</td>\n",
              "      <td>Vikings: Valhalla</td>\n",
              "      <td>TV Show</td>\n",
              "      <td>2022.0</td>\n",
              "      <td>History</td>\n",
              "      <td>20,55,00,000</td>\n",
              "      <td>205.5M</td>\n",
              "    </tr>\n",
              "    <tr>\n",
              "      <th>56</th>\n",
              "      <td>57</td>\n",
              "      <td>Bridgerton</td>\n",
              "      <td>TV Show</td>\n",
              "      <td>2020.0</td>\n",
              "      <td>History</td>\n",
              "      <td>13,66,00,000</td>\n",
              "      <td>136.6M</td>\n",
              "    </tr>\n",
              "    <tr>\n",
              "      <th>62</th>\n",
              "      <td>63</td>\n",
              "      <td>Bridgerton</td>\n",
              "      <td>TV Show</td>\n",
              "      <td>2020.0</td>\n",
              "      <td>History</td>\n",
              "      <td>13,34,00,000</td>\n",
              "      <td>133.4M</td>\n",
              "    </tr>\n",
              "    <tr>\n",
              "      <th>76</th>\n",
              "      <td>77</td>\n",
              "      <td>Vikings: Valhalla</td>\n",
              "      <td>TV Show</td>\n",
              "      <td>2022.0</td>\n",
              "      <td>History</td>\n",
              "      <td>11,65,00,000</td>\n",
              "      <td>116.5M</td>\n",
              "    </tr>\n",
              "    <tr>\n",
              "      <th>131</th>\n",
              "      <td>132</td>\n",
              "      <td>The Last Kingdom: Seven Kings Must Die</td>\n",
              "      <td>Movie</td>\n",
              "      <td>2023.0</td>\n",
              "      <td>History</td>\n",
              "      <td>8,32,00,000</td>\n",
              "      <td>83.2M</td>\n",
              "    </tr>\n",
              "    <tr>\n",
              "      <th>...</th>\n",
              "      <td>...</td>\n",
              "      <td>...</td>\n",
              "      <td>...</td>\n",
              "      <td>...</td>\n",
              "      <td>...</td>\n",
              "      <td>...</td>\n",
              "      <td>...</td>\n",
              "    </tr>\n",
              "    <tr>\n",
              "      <th>17179</th>\n",
              "      <td>17230</td>\n",
              "      <td>One Nation, One King</td>\n",
              "      <td>Movie</td>\n",
              "      <td>2018.0</td>\n",
              "      <td>History</td>\n",
              "      <td>1,00,000</td>\n",
              "      <td>0.1M</td>\n",
              "    </tr>\n",
              "    <tr>\n",
              "      <th>17613</th>\n",
              "      <td>17664</td>\n",
              "      <td>The Lion of Flanders</td>\n",
              "      <td>Movie</td>\n",
              "      <td>1985.0</td>\n",
              "      <td>History</td>\n",
              "      <td>1,00,000</td>\n",
              "      <td>0.1M</td>\n",
              "    </tr>\n",
              "    <tr>\n",
              "      <th>17623</th>\n",
              "      <td>17674</td>\n",
              "      <td>Laia</td>\n",
              "      <td>Movie</td>\n",
              "      <td>2016.0</td>\n",
              "      <td>History</td>\n",
              "      <td>1,00,000</td>\n",
              "      <td>0.1M</td>\n",
              "    </tr>\n",
              "    <tr>\n",
              "      <th>18129</th>\n",
              "      <td>18180</td>\n",
              "      <td>Crossed Swords</td>\n",
              "      <td>Movie</td>\n",
              "      <td>1977.0</td>\n",
              "      <td>History</td>\n",
              "      <td>1,00,000</td>\n",
              "      <td>0.1M</td>\n",
              "    </tr>\n",
              "    <tr>\n",
              "      <th>18154</th>\n",
              "      <td>18205</td>\n",
              "      <td>Maksym Osa: The Gold of Werewolf</td>\n",
              "      <td>Movie</td>\n",
              "      <td>2022.0</td>\n",
              "      <td>History</td>\n",
              "      <td>1,00,000</td>\n",
              "      <td>0.1M</td>\n",
              "    </tr>\n",
              "  </tbody>\n",
              "</table>\n",
              "<p>154 rows × 7 columns</p>\n",
              "</div>\n",
              "    <div class=\"colab-df-buttons\">\n",
              "\n",
              "  <div class=\"colab-df-container\">\n",
              "    <button class=\"colab-df-convert\" onclick=\"convertToInteractive('df-57624799-78d2-4c25-81f7-7bb798df8d48')\"\n",
              "            title=\"Convert this dataframe to an interactive table.\"\n",
              "            style=\"display:none;\">\n",
              "\n",
              "  <svg xmlns=\"http://www.w3.org/2000/svg\" height=\"24px\" viewBox=\"0 -960 960 960\">\n",
              "    <path d=\"M120-120v-720h720v720H120Zm60-500h600v-160H180v160Zm220 220h160v-160H400v160Zm0 220h160v-160H400v160ZM180-400h160v-160H180v160Zm440 0h160v-160H620v160ZM180-180h160v-160H180v160Zm440 0h160v-160H620v160Z\"/>\n",
              "  </svg>\n",
              "    </button>\n",
              "\n",
              "  <style>\n",
              "    .colab-df-container {\n",
              "      display:flex;\n",
              "      gap: 12px;\n",
              "    }\n",
              "\n",
              "    .colab-df-convert {\n",
              "      background-color: #E8F0FE;\n",
              "      border: none;\n",
              "      border-radius: 50%;\n",
              "      cursor: pointer;\n",
              "      display: none;\n",
              "      fill: #1967D2;\n",
              "      height: 32px;\n",
              "      padding: 0 0 0 0;\n",
              "      width: 32px;\n",
              "    }\n",
              "\n",
              "    .colab-df-convert:hover {\n",
              "      background-color: #E2EBFA;\n",
              "      box-shadow: 0px 1px 2px rgba(60, 64, 67, 0.3), 0px 1px 3px 1px rgba(60, 64, 67, 0.15);\n",
              "      fill: #174EA6;\n",
              "    }\n",
              "\n",
              "    .colab-df-buttons div {\n",
              "      margin-bottom: 4px;\n",
              "    }\n",
              "\n",
              "    [theme=dark] .colab-df-convert {\n",
              "      background-color: #3B4455;\n",
              "      fill: #D2E3FC;\n",
              "    }\n",
              "\n",
              "    [theme=dark] .colab-df-convert:hover {\n",
              "      background-color: #434B5C;\n",
              "      box-shadow: 0px 1px 3px 1px rgba(0, 0, 0, 0.15);\n",
              "      filter: drop-shadow(0px 1px 2px rgba(0, 0, 0, 0.3));\n",
              "      fill: #FFFFFF;\n",
              "    }\n",
              "  </style>\n",
              "\n",
              "    <script>\n",
              "      const buttonEl =\n",
              "        document.querySelector('#df-57624799-78d2-4c25-81f7-7bb798df8d48 button.colab-df-convert');\n",
              "      buttonEl.style.display =\n",
              "        google.colab.kernel.accessAllowed ? 'block' : 'none';\n",
              "\n",
              "      async function convertToInteractive(key) {\n",
              "        const element = document.querySelector('#df-57624799-78d2-4c25-81f7-7bb798df8d48');\n",
              "        const dataTable =\n",
              "          await google.colab.kernel.invokeFunction('convertToInteractive',\n",
              "                                                    [key], {});\n",
              "        if (!dataTable) return;\n",
              "\n",
              "        const docLinkHtml = 'Like what you see? Visit the ' +\n",
              "          '<a target=\"_blank\" href=https://colab.research.google.com/notebooks/data_table.ipynb>data table notebook</a>'\n",
              "          + ' to learn more about interactive tables.';\n",
              "        element.innerHTML = '';\n",
              "        dataTable['output_type'] = 'display_data';\n",
              "        await google.colab.output.renderOutput(dataTable, element);\n",
              "        const docLink = document.createElement('div');\n",
              "        docLink.innerHTML = docLinkHtml;\n",
              "        element.appendChild(docLink);\n",
              "      }\n",
              "    </script>\n",
              "  </div>\n",
              "\n",
              "\n",
              "<div id=\"df-20ea11f0-36d9-4a96-be9d-c097f83812a9\">\n",
              "  <button class=\"colab-df-quickchart\" onclick=\"quickchart('df-20ea11f0-36d9-4a96-be9d-c097f83812a9')\"\n",
              "            title=\"Suggest charts\"\n",
              "            style=\"display:none;\">\n",
              "\n",
              "<svg xmlns=\"http://www.w3.org/2000/svg\" height=\"24px\"viewBox=\"0 0 24 24\"\n",
              "     width=\"24px\">\n",
              "    <g>\n",
              "        <path d=\"M19 3H5c-1.1 0-2 .9-2 2v14c0 1.1.9 2 2 2h14c1.1 0 2-.9 2-2V5c0-1.1-.9-2-2-2zM9 17H7v-7h2v7zm4 0h-2V7h2v10zm4 0h-2v-4h2v4z\"/>\n",
              "    </g>\n",
              "</svg>\n",
              "  </button>\n",
              "\n",
              "<style>\n",
              "  .colab-df-quickchart {\n",
              "      --bg-color: #E8F0FE;\n",
              "      --fill-color: #1967D2;\n",
              "      --hover-bg-color: #E2EBFA;\n",
              "      --hover-fill-color: #174EA6;\n",
              "      --disabled-fill-color: #AAA;\n",
              "      --disabled-bg-color: #DDD;\n",
              "  }\n",
              "\n",
              "  [theme=dark] .colab-df-quickchart {\n",
              "      --bg-color: #3B4455;\n",
              "      --fill-color: #D2E3FC;\n",
              "      --hover-bg-color: #434B5C;\n",
              "      --hover-fill-color: #FFFFFF;\n",
              "      --disabled-bg-color: #3B4455;\n",
              "      --disabled-fill-color: #666;\n",
              "  }\n",
              "\n",
              "  .colab-df-quickchart {\n",
              "    background-color: var(--bg-color);\n",
              "    border: none;\n",
              "    border-radius: 50%;\n",
              "    cursor: pointer;\n",
              "    display: none;\n",
              "    fill: var(--fill-color);\n",
              "    height: 32px;\n",
              "    padding: 0;\n",
              "    width: 32px;\n",
              "  }\n",
              "\n",
              "  .colab-df-quickchart:hover {\n",
              "    background-color: var(--hover-bg-color);\n",
              "    box-shadow: 0 1px 2px rgba(60, 64, 67, 0.3), 0 1px 3px 1px rgba(60, 64, 67, 0.15);\n",
              "    fill: var(--button-hover-fill-color);\n",
              "  }\n",
              "\n",
              "  .colab-df-quickchart-complete:disabled,\n",
              "  .colab-df-quickchart-complete:disabled:hover {\n",
              "    background-color: var(--disabled-bg-color);\n",
              "    fill: var(--disabled-fill-color);\n",
              "    box-shadow: none;\n",
              "  }\n",
              "\n",
              "  .colab-df-spinner {\n",
              "    border: 2px solid var(--fill-color);\n",
              "    border-color: transparent;\n",
              "    border-bottom-color: var(--fill-color);\n",
              "    animation:\n",
              "      spin 1s steps(1) infinite;\n",
              "  }\n",
              "\n",
              "  @keyframes spin {\n",
              "    0% {\n",
              "      border-color: transparent;\n",
              "      border-bottom-color: var(--fill-color);\n",
              "      border-left-color: var(--fill-color);\n",
              "    }\n",
              "    20% {\n",
              "      border-color: transparent;\n",
              "      border-left-color: var(--fill-color);\n",
              "      border-top-color: var(--fill-color);\n",
              "    }\n",
              "    30% {\n",
              "      border-color: transparent;\n",
              "      border-left-color: var(--fill-color);\n",
              "      border-top-color: var(--fill-color);\n",
              "      border-right-color: var(--fill-color);\n",
              "    }\n",
              "    40% {\n",
              "      border-color: transparent;\n",
              "      border-right-color: var(--fill-color);\n",
              "      border-top-color: var(--fill-color);\n",
              "    }\n",
              "    60% {\n",
              "      border-color: transparent;\n",
              "      border-right-color: var(--fill-color);\n",
              "    }\n",
              "    80% {\n",
              "      border-color: transparent;\n",
              "      border-right-color: var(--fill-color);\n",
              "      border-bottom-color: var(--fill-color);\n",
              "    }\n",
              "    90% {\n",
              "      border-color: transparent;\n",
              "      border-bottom-color: var(--fill-color);\n",
              "    }\n",
              "  }\n",
              "</style>\n",
              "\n",
              "  <script>\n",
              "    async function quickchart(key) {\n",
              "      const quickchartButtonEl =\n",
              "        document.querySelector('#' + key + ' button');\n",
              "      quickchartButtonEl.disabled = true;  // To prevent multiple clicks.\n",
              "      quickchartButtonEl.classList.add('colab-df-spinner');\n",
              "      try {\n",
              "        const charts = await google.colab.kernel.invokeFunction(\n",
              "            'suggestCharts', [key], {});\n",
              "      } catch (error) {\n",
              "        console.error('Error during call to suggestCharts:', error);\n",
              "      }\n",
              "      quickchartButtonEl.classList.remove('colab-df-spinner');\n",
              "      quickchartButtonEl.classList.add('colab-df-quickchart-complete');\n",
              "    }\n",
              "    (() => {\n",
              "      let quickchartButtonEl =\n",
              "        document.querySelector('#df-20ea11f0-36d9-4a96-be9d-c097f83812a9 button');\n",
              "      quickchartButtonEl.style.display =\n",
              "        google.colab.kernel.accessAllowed ? 'block' : 'none';\n",
              "    })();\n",
              "  </script>\n",
              "</div>\n",
              "    </div>\n",
              "  </div>\n"
            ],
            "text/plain": [
              "        Rank                                   Title     Type  Premiere  \\\n",
              "21        22                       Vikings: Valhalla  TV Show    2022.0   \n",
              "56        57                              Bridgerton  TV Show    2020.0   \n",
              "62        63                              Bridgerton  TV Show    2020.0   \n",
              "76        77                       Vikings: Valhalla  TV Show    2022.0   \n",
              "131      132  The Last Kingdom: Seven Kings Must Die    Movie    2023.0   \n",
              "...      ...                                     ...      ...       ...   \n",
              "17179  17230                    One Nation, One King    Movie    2018.0   \n",
              "17613  17664                    The Lion of Flanders    Movie    1985.0   \n",
              "17623  17674                                    Laia    Movie    2016.0   \n",
              "18129  18180                          Crossed Swords    Movie    1977.0   \n",
              "18154  18205        Maksym Osa: The Gold of Werewolf    Movie    2022.0   \n",
              "\n",
              "         Genre     Watchtime Watchtime in Million  \n",
              "21     History  20,55,00,000               205.5M  \n",
              "56     History  13,66,00,000               136.6M  \n",
              "62     History  13,34,00,000               133.4M  \n",
              "76     History  11,65,00,000               116.5M  \n",
              "131    History   8,32,00,000                83.2M  \n",
              "...        ...           ...                  ...  \n",
              "17179  History      1,00,000                 0.1M  \n",
              "17613  History      1,00,000                 0.1M  \n",
              "17623  History      1,00,000                 0.1M  \n",
              "18129  History      1,00,000                 0.1M  \n",
              "18154  History      1,00,000                 0.1M  \n",
              "\n",
              "[154 rows x 7 columns]"
            ]
          },
          "execution_count": 19,
          "metadata": {},
          "output_type": "execute_result"
        }
      ],
      "source": [
        "df[df[\"Genre\"]==\"History\"]"
      ]
    },
    {
      "cell_type": "code",
      "execution_count": null,
      "metadata": {
        "colab": {
          "base_uri": "https://localhost:8080/"
        },
        "id": "OZWlNtZbXz42",
        "outputId": "a73649ee-9763-473f-b17b-ed4f0851cadf"
      },
      "outputs": [
        {
          "data": {
            "text/plain": [
              "Index(['Rank', 'Title', 'Type', 'Premiere', 'Genre', 'Watchtime',\n",
              "       'Watchtime in Million'],\n",
              "      dtype='object')"
            ]
          },
          "execution_count": 20,
          "metadata": {},
          "output_type": "execute_result"
        }
      ],
      "source": [
        "df.columns"
      ]
    },
    {
      "cell_type": "code",
      "execution_count": null,
      "metadata": {
        "colab": {
          "base_uri": "https://localhost:8080/"
        },
        "id": "7nVmZhRSO1m2",
        "outputId": "dc8e1983-d4cc-4ef1-ef8d-9152ddb23001"
      },
      "outputs": [
        {
          "data": {
            "text/plain": [
              "array(['Action', 'Drama', 'Thriller', 'Fantasy', 'Crime', 'Reality-Show',\n",
              "       'Comedy', 'History', 'Superhero', 'Animation', 'Science Fiction',\n",
              "       'Horror', 'Adventure', 'Documentary', 'War', 'Musical', 'Romance',\n",
              "       'Family', 'Stand-Up', 'Western', 'Sports', 'Biography',\n",
              "       'Talk Show', 'Game-Show', 'Broadcast', 'Concerts', 'News',\n",
              "       'Fairy Tale'], dtype=object)"
            ]
          },
          "execution_count": 21,
          "metadata": {},
          "output_type": "execute_result"
        }
      ],
      "source": [
        "### Data Analysis\n",
        "df.head()\n",
        "\n",
        "df[\"Genre\"].unique()\n",
        "\n",
        "\n"
      ]
    },
    {
      "cell_type": "code",
      "execution_count": null,
      "metadata": {
        "colab": {
          "base_uri": "https://localhost:8080/"
        },
        "id": "OXTHsWbOpnxk",
        "outputId": "4f7aa99e-92a6-4bed-fd16-c1d58467ba1b"
      },
      "outputs": [
        {
          "data": {
            "text/plain": [
              "28"
            ]
          },
          "execution_count": 22,
          "metadata": {},
          "output_type": "execute_result"
        }
      ],
      "source": [
        "len(df[\"Genre\"].unique())"
      ]
    },
    {
      "cell_type": "code",
      "execution_count": null,
      "metadata": {
        "colab": {
          "base_uri": "https://localhost:8080/"
        },
        "id": "RZIlyYcsukns",
        "outputId": "ede6ddbb-5c20-4fb4-ae6b-92f5505a370c"
      },
      "outputs": [
        {
          "data": {
            "text/plain": [
              "array([2023., 2021., 2022., 2018., 2011., 2020., 2012., 2013., 2010.,\n",
              "       2016., 2003., 2019., 2008., 2017., 2000., 2004., 2015., 2014.,\n",
              "       2009., 1996., 2005., 1994., 2007., 2001., 1989., 1997., 2006.,\n",
              "       2002., 1993., 1999., 1995., 1972., 1983., 1978., 1998., 1974.,\n",
              "       1986., 1988., 1991., 1976., 1985., 1987., 1992., 1977., 1990.,\n",
              "       1979., 1973., 1982., 1966., 1984., 1980., 1975., 1940., 1963.,\n",
              "       1970., 1981., 1964., 1960., 1971., 1968., 1969., 1962., 1954.,\n",
              "       1961., 1953., 1957., 1956., 1958., 1965., 1951., 1955., 1967.,\n",
              "       1952.])"
            ]
          },
          "execution_count": 23,
          "metadata": {},
          "output_type": "execute_result"
        }
      ],
      "source": [
        "df[\"Premiere\"].unique()"
      ]
    },
    {
      "cell_type": "code",
      "execution_count": null,
      "metadata": {
        "colab": {
          "base_uri": "https://localhost:8080/"
        },
        "id": "8YRHhBSturnl",
        "outputId": "920c6be3-9a0f-463a-8fff-a6219e2de67b"
      },
      "outputs": [
        {
          "data": {
            "text/plain": [
              "array(['TV Show', 'Movie'], dtype=object)"
            ]
          },
          "execution_count": 24,
          "metadata": {},
          "output_type": "execute_result"
        }
      ],
      "source": [
        "df[\"Type\"].unique()"
      ]
    },
    {
      "cell_type": "markdown",
      "metadata": {
        "id": "fK3rYSI0VKo_"
      },
      "source": [
        "**************CUSTOMER A********************\n",
        "Customer A would like to watch a crime Movie that is premiered between 2000 and 2023 and most viewed . What would be your recommendation?"
      ]
    },
    {
      "cell_type": "code",
      "execution_count": null,
      "metadata": {
        "colab": {
          "base_uri": "https://localhost:8080/",
          "height": 81
        },
        "id": "hkMxo8Y3OxV7",
        "outputId": "971771eb-fd5d-477b-cdc0-05639b4877e5"
      },
      "outputs": [
        {
          "data": {
            "application/vnd.google.colaboratory.intrinsic+json": {
              "summary": "{\n  \"name\": \"df[(df[\\\"Genre\\\"]==\\\"Crime\\\")&(df[\\\"Premiere\\\"]>=2000)& (df[\\\"Premiere\\\"]<=2023)]\",\n  \"rows\": 1,\n  \"fields\": [\n    {\n      \"column\": \"Rank\",\n      \"properties\": {\n        \"dtype\": \"number\",\n        \"std\": null,\n        \"min\": 91,\n        \"max\": 91,\n        \"num_unique_values\": 1,\n        \"samples\": [\n          91\n        ],\n        \"semantic_type\": \"\",\n        \"description\": \"\"\n      }\n    },\n    {\n      \"column\": \"Title\",\n      \"properties\": {\n        \"dtype\": \"string\",\n        \"num_unique_values\": 1,\n        \"samples\": [\n          \"The Blacklist\"\n        ],\n        \"semantic_type\": \"\",\n        \"description\": \"\"\n      }\n    },\n    {\n      \"column\": \"Type\",\n      \"properties\": {\n        \"dtype\": \"string\",\n        \"num_unique_values\": 1,\n        \"samples\": [\n          \"TV Show\"\n        ],\n        \"semantic_type\": \"\",\n        \"description\": \"\"\n      }\n    },\n    {\n      \"column\": \"Premiere\",\n      \"properties\": {\n        \"dtype\": \"number\",\n        \"std\": null,\n        \"min\": 2013.0,\n        \"max\": 2013.0,\n        \"num_unique_values\": 1,\n        \"samples\": [\n          2013.0\n        ],\n        \"semantic_type\": \"\",\n        \"description\": \"\"\n      }\n    },\n    {\n      \"column\": \"Genre\",\n      \"properties\": {\n        \"dtype\": \"string\",\n        \"num_unique_values\": 1,\n        \"samples\": [\n          \"Crime\"\n        ],\n        \"semantic_type\": \"\",\n        \"description\": \"\"\n      }\n    },\n    {\n      \"column\": \"Watchtime\",\n      \"properties\": {\n        \"dtype\": \"string\",\n        \"num_unique_values\": 1,\n        \"samples\": [\n          \"9,99,00,000\"\n        ],\n        \"semantic_type\": \"\",\n        \"description\": \"\"\n      }\n    },\n    {\n      \"column\": \"Watchtime in Million\",\n      \"properties\": {\n        \"dtype\": \"string\",\n        \"num_unique_values\": 1,\n        \"samples\": [\n          \"99.9M\"\n        ],\n        \"semantic_type\": \"\",\n        \"description\": \"\"\n      }\n    }\n  ]\n}",
              "type": "dataframe"
            },
            "text/html": [
              "\n",
              "  <div id=\"df-9b0e9f97-de01-43ce-85dc-216ef2fdfdba\" class=\"colab-df-container\">\n",
              "    <div>\n",
              "<style scoped>\n",
              "    .dataframe tbody tr th:only-of-type {\n",
              "        vertical-align: middle;\n",
              "    }\n",
              "\n",
              "    .dataframe tbody tr th {\n",
              "        vertical-align: top;\n",
              "    }\n",
              "\n",
              "    .dataframe thead th {\n",
              "        text-align: right;\n",
              "    }\n",
              "</style>\n",
              "<table border=\"1\" class=\"dataframe\">\n",
              "  <thead>\n",
              "    <tr style=\"text-align: right;\">\n",
              "      <th></th>\n",
              "      <th>Rank</th>\n",
              "      <th>Title</th>\n",
              "      <th>Type</th>\n",
              "      <th>Premiere</th>\n",
              "      <th>Genre</th>\n",
              "      <th>Watchtime</th>\n",
              "      <th>Watchtime in Million</th>\n",
              "    </tr>\n",
              "  </thead>\n",
              "  <tbody>\n",
              "    <tr>\n",
              "      <th>90</th>\n",
              "      <td>91</td>\n",
              "      <td>The Blacklist</td>\n",
              "      <td>TV Show</td>\n",
              "      <td>2013.0</td>\n",
              "      <td>Crime</td>\n",
              "      <td>9,99,00,000</td>\n",
              "      <td>99.9M</td>\n",
              "    </tr>\n",
              "  </tbody>\n",
              "</table>\n",
              "</div>\n",
              "    <div class=\"colab-df-buttons\">\n",
              "\n",
              "  <div class=\"colab-df-container\">\n",
              "    <button class=\"colab-df-convert\" onclick=\"convertToInteractive('df-9b0e9f97-de01-43ce-85dc-216ef2fdfdba')\"\n",
              "            title=\"Convert this dataframe to an interactive table.\"\n",
              "            style=\"display:none;\">\n",
              "\n",
              "  <svg xmlns=\"http://www.w3.org/2000/svg\" height=\"24px\" viewBox=\"0 -960 960 960\">\n",
              "    <path d=\"M120-120v-720h720v720H120Zm60-500h600v-160H180v160Zm220 220h160v-160H400v160Zm0 220h160v-160H400v160ZM180-400h160v-160H180v160Zm440 0h160v-160H620v160ZM180-180h160v-160H180v160Zm440 0h160v-160H620v160Z\"/>\n",
              "  </svg>\n",
              "    </button>\n",
              "\n",
              "  <style>\n",
              "    .colab-df-container {\n",
              "      display:flex;\n",
              "      gap: 12px;\n",
              "    }\n",
              "\n",
              "    .colab-df-convert {\n",
              "      background-color: #E8F0FE;\n",
              "      border: none;\n",
              "      border-radius: 50%;\n",
              "      cursor: pointer;\n",
              "      display: none;\n",
              "      fill: #1967D2;\n",
              "      height: 32px;\n",
              "      padding: 0 0 0 0;\n",
              "      width: 32px;\n",
              "    }\n",
              "\n",
              "    .colab-df-convert:hover {\n",
              "      background-color: #E2EBFA;\n",
              "      box-shadow: 0px 1px 2px rgba(60, 64, 67, 0.3), 0px 1px 3px 1px rgba(60, 64, 67, 0.15);\n",
              "      fill: #174EA6;\n",
              "    }\n",
              "\n",
              "    .colab-df-buttons div {\n",
              "      margin-bottom: 4px;\n",
              "    }\n",
              "\n",
              "    [theme=dark] .colab-df-convert {\n",
              "      background-color: #3B4455;\n",
              "      fill: #D2E3FC;\n",
              "    }\n",
              "\n",
              "    [theme=dark] .colab-df-convert:hover {\n",
              "      background-color: #434B5C;\n",
              "      box-shadow: 0px 1px 3px 1px rgba(0, 0, 0, 0.15);\n",
              "      filter: drop-shadow(0px 1px 2px rgba(0, 0, 0, 0.3));\n",
              "      fill: #FFFFFF;\n",
              "    }\n",
              "  </style>\n",
              "\n",
              "    <script>\n",
              "      const buttonEl =\n",
              "        document.querySelector('#df-9b0e9f97-de01-43ce-85dc-216ef2fdfdba button.colab-df-convert');\n",
              "      buttonEl.style.display =\n",
              "        google.colab.kernel.accessAllowed ? 'block' : 'none';\n",
              "\n",
              "      async function convertToInteractive(key) {\n",
              "        const element = document.querySelector('#df-9b0e9f97-de01-43ce-85dc-216ef2fdfdba');\n",
              "        const dataTable =\n",
              "          await google.colab.kernel.invokeFunction('convertToInteractive',\n",
              "                                                    [key], {});\n",
              "        if (!dataTable) return;\n",
              "\n",
              "        const docLinkHtml = 'Like what you see? Visit the ' +\n",
              "          '<a target=\"_blank\" href=https://colab.research.google.com/notebooks/data_table.ipynb>data table notebook</a>'\n",
              "          + ' to learn more about interactive tables.';\n",
              "        element.innerHTML = '';\n",
              "        dataTable['output_type'] = 'display_data';\n",
              "        await google.colab.output.renderOutput(dataTable, element);\n",
              "        const docLink = document.createElement('div');\n",
              "        docLink.innerHTML = docLinkHtml;\n",
              "        element.appendChild(docLink);\n",
              "      }\n",
              "    </script>\n",
              "  </div>\n",
              "\n",
              "    </div>\n",
              "  </div>\n"
            ],
            "text/plain": [
              "    Rank          Title     Type  Premiere  Genre    Watchtime  \\\n",
              "90    91  The Blacklist  TV Show    2013.0  Crime  9,99,00,000   \n",
              "\n",
              "   Watchtime in Million  \n",
              "90                99.9M  "
            ]
          },
          "execution_count": 25,
          "metadata": {},
          "output_type": "execute_result"
        }
      ],
      "source": [
        "df[(df[\"Genre\"]==\"Crime\")&(df[\"Premiere\"]>=2000)& (df[\"Premiere\"]<=2023)].sort_values(by=\"Watchtime in Million\").tail(1)"
      ]
    },
    {
      "cell_type": "markdown",
      "metadata": {
        "id": "ohUSDFkPVSgh"
      },
      "source": [
        "**************CUSTOMER B************\n",
        "Customer B would like to watch a historical TV Show that is Premiered between 2010 and 2020 and least viewed.What would be your recommendation?"
      ]
    },
    {
      "cell_type": "code",
      "execution_count": null,
      "metadata": {
        "colab": {
          "base_uri": "https://localhost:8080/",
          "height": 206
        },
        "id": "CNxn94wbUinD",
        "outputId": "130f714b-a2e1-43d2-b279-fd817f898236"
      },
      "outputs": [
        {
          "data": {
            "application/vnd.google.colaboratory.intrinsic+json": {
              "summary": "{\n  \"name\": \"df[(df[\\\"Genre\\\"]==\\\"History\\\")&(df[\\\"Type\\\"]==\\\"TV Show\\\")&(df[\\\"Premiere\\\"]>=2010) & (df[\\\"Premiere\\\"]<=2020)]\",\n  \"rows\": 5,\n  \"fields\": [\n    {\n      \"column\": \"Rank\",\n      \"properties\": {\n        \"dtype\": \"number\",\n        \"std\": 1877,\n        \"min\": 12261,\n        \"max\": 16938,\n        \"num_unique_values\": 5,\n        \"samples\": [\n          15352,\n          12261,\n          13330\n        ],\n        \"semantic_type\": \"\",\n        \"description\": \"\"\n      }\n    },\n    {\n      \"column\": \"Title\",\n      \"properties\": {\n        \"dtype\": \"string\",\n        \"num_unique_values\": 3,\n        \"samples\": [\n          \"Beecham House\",\n          \"Victorious Mehmets\",\n          \"The Borgias\"\n        ],\n        \"semantic_type\": \"\",\n        \"description\": \"\"\n      }\n    },\n    {\n      \"column\": \"Type\",\n      \"properties\": {\n        \"dtype\": \"category\",\n        \"num_unique_values\": 1,\n        \"samples\": [\n          \"TV Show\"\n        ],\n        \"semantic_type\": \"\",\n        \"description\": \"\"\n      }\n    },\n    {\n      \"column\": \"Premiere\",\n      \"properties\": {\n        \"dtype\": \"number\",\n        \"std\": 4.123105625617661,\n        \"min\": 2011.0,\n        \"max\": 2019.0,\n        \"num_unique_values\": 3,\n        \"samples\": [\n          2019.0\n        ],\n        \"semantic_type\": \"\",\n        \"description\": \"\"\n      }\n    },\n    {\n      \"column\": \"Genre\",\n      \"properties\": {\n        \"dtype\": \"category\",\n        \"num_unique_values\": 1,\n        \"samples\": [\n          \"History\"\n        ],\n        \"semantic_type\": \"\",\n        \"description\": \"\"\n      }\n    },\n    {\n      \"column\": \"Watchtime\",\n      \"properties\": {\n        \"dtype\": \"string\",\n        \"num_unique_values\": 3,\n        \"samples\": [\n          \"1,00,000\"\n        ],\n        \"semantic_type\": \"\",\n        \"description\": \"\"\n      }\n    },\n    {\n      \"column\": \"Watchtime in Million\",\n      \"properties\": {\n        \"dtype\": \"string\",\n        \"num_unique_values\": 3,\n        \"samples\": [\n          \"0.1M\"\n        ],\n        \"semantic_type\": \"\",\n        \"description\": \"\"\n      }\n    }\n  ]\n}",
              "type": "dataframe"
            },
            "text/html": [
              "\n",
              "  <div id=\"df-fa592066-d72b-480e-b429-8fbcb97dbf5f\" class=\"colab-df-container\">\n",
              "    <div>\n",
              "<style scoped>\n",
              "    .dataframe tbody tr th:only-of-type {\n",
              "        vertical-align: middle;\n",
              "    }\n",
              "\n",
              "    .dataframe tbody tr th {\n",
              "        vertical-align: top;\n",
              "    }\n",
              "\n",
              "    .dataframe thead th {\n",
              "        text-align: right;\n",
              "    }\n",
              "</style>\n",
              "<table border=\"1\" class=\"dataframe\">\n",
              "  <thead>\n",
              "    <tr style=\"text-align: right;\">\n",
              "      <th></th>\n",
              "      <th>Rank</th>\n",
              "      <th>Title</th>\n",
              "      <th>Type</th>\n",
              "      <th>Premiere</th>\n",
              "      <th>Genre</th>\n",
              "      <th>Watchtime</th>\n",
              "      <th>Watchtime in Million</th>\n",
              "    </tr>\n",
              "  </thead>\n",
              "  <tbody>\n",
              "    <tr>\n",
              "      <th>16887</th>\n",
              "      <td>16938</td>\n",
              "      <td>Beecham House</td>\n",
              "      <td>TV Show</td>\n",
              "      <td>2019.0</td>\n",
              "      <td>History</td>\n",
              "      <td>1,00,000</td>\n",
              "      <td>0.1M</td>\n",
              "    </tr>\n",
              "    <tr>\n",
              "      <th>15301</th>\n",
              "      <td>15352</td>\n",
              "      <td>Victorious Mehmets</td>\n",
              "      <td>TV Show</td>\n",
              "      <td>2018.0</td>\n",
              "      <td>History</td>\n",
              "      <td>1,00,000</td>\n",
              "      <td>0.1M</td>\n",
              "    </tr>\n",
              "    <tr>\n",
              "      <th>13279</th>\n",
              "      <td>13330</td>\n",
              "      <td>The Borgias</td>\n",
              "      <td>TV Show</td>\n",
              "      <td>2011.0</td>\n",
              "      <td>History</td>\n",
              "      <td>2,00,000</td>\n",
              "      <td>0.2M</td>\n",
              "    </tr>\n",
              "    <tr>\n",
              "      <th>13274</th>\n",
              "      <td>13325</td>\n",
              "      <td>The Borgias</td>\n",
              "      <td>TV Show</td>\n",
              "      <td>2011.0</td>\n",
              "      <td>History</td>\n",
              "      <td>2,00,000</td>\n",
              "      <td>0.2M</td>\n",
              "    </tr>\n",
              "    <tr>\n",
              "      <th>12210</th>\n",
              "      <td>12261</td>\n",
              "      <td>The Borgias</td>\n",
              "      <td>TV Show</td>\n",
              "      <td>2011.0</td>\n",
              "      <td>History</td>\n",
              "      <td>3,00,000</td>\n",
              "      <td>0.3M</td>\n",
              "    </tr>\n",
              "  </tbody>\n",
              "</table>\n",
              "</div>\n",
              "    <div class=\"colab-df-buttons\">\n",
              "\n",
              "  <div class=\"colab-df-container\">\n",
              "    <button class=\"colab-df-convert\" onclick=\"convertToInteractive('df-fa592066-d72b-480e-b429-8fbcb97dbf5f')\"\n",
              "            title=\"Convert this dataframe to an interactive table.\"\n",
              "            style=\"display:none;\">\n",
              "\n",
              "  <svg xmlns=\"http://www.w3.org/2000/svg\" height=\"24px\" viewBox=\"0 -960 960 960\">\n",
              "    <path d=\"M120-120v-720h720v720H120Zm60-500h600v-160H180v160Zm220 220h160v-160H400v160Zm0 220h160v-160H400v160ZM180-400h160v-160H180v160Zm440 0h160v-160H620v160ZM180-180h160v-160H180v160Zm440 0h160v-160H620v160Z\"/>\n",
              "  </svg>\n",
              "    </button>\n",
              "\n",
              "  <style>\n",
              "    .colab-df-container {\n",
              "      display:flex;\n",
              "      gap: 12px;\n",
              "    }\n",
              "\n",
              "    .colab-df-convert {\n",
              "      background-color: #E8F0FE;\n",
              "      border: none;\n",
              "      border-radius: 50%;\n",
              "      cursor: pointer;\n",
              "      display: none;\n",
              "      fill: #1967D2;\n",
              "      height: 32px;\n",
              "      padding: 0 0 0 0;\n",
              "      width: 32px;\n",
              "    }\n",
              "\n",
              "    .colab-df-convert:hover {\n",
              "      background-color: #E2EBFA;\n",
              "      box-shadow: 0px 1px 2px rgba(60, 64, 67, 0.3), 0px 1px 3px 1px rgba(60, 64, 67, 0.15);\n",
              "      fill: #174EA6;\n",
              "    }\n",
              "\n",
              "    .colab-df-buttons div {\n",
              "      margin-bottom: 4px;\n",
              "    }\n",
              "\n",
              "    [theme=dark] .colab-df-convert {\n",
              "      background-color: #3B4455;\n",
              "      fill: #D2E3FC;\n",
              "    }\n",
              "\n",
              "    [theme=dark] .colab-df-convert:hover {\n",
              "      background-color: #434B5C;\n",
              "      box-shadow: 0px 1px 3px 1px rgba(0, 0, 0, 0.15);\n",
              "      filter: drop-shadow(0px 1px 2px rgba(0, 0, 0, 0.3));\n",
              "      fill: #FFFFFF;\n",
              "    }\n",
              "  </style>\n",
              "\n",
              "    <script>\n",
              "      const buttonEl =\n",
              "        document.querySelector('#df-fa592066-d72b-480e-b429-8fbcb97dbf5f button.colab-df-convert');\n",
              "      buttonEl.style.display =\n",
              "        google.colab.kernel.accessAllowed ? 'block' : 'none';\n",
              "\n",
              "      async function convertToInteractive(key) {\n",
              "        const element = document.querySelector('#df-fa592066-d72b-480e-b429-8fbcb97dbf5f');\n",
              "        const dataTable =\n",
              "          await google.colab.kernel.invokeFunction('convertToInteractive',\n",
              "                                                    [key], {});\n",
              "        if (!dataTable) return;\n",
              "\n",
              "        const docLinkHtml = 'Like what you see? Visit the ' +\n",
              "          '<a target=\"_blank\" href=https://colab.research.google.com/notebooks/data_table.ipynb>data table notebook</a>'\n",
              "          + ' to learn more about interactive tables.';\n",
              "        element.innerHTML = '';\n",
              "        dataTable['output_type'] = 'display_data';\n",
              "        await google.colab.output.renderOutput(dataTable, element);\n",
              "        const docLink = document.createElement('div');\n",
              "        docLink.innerHTML = docLinkHtml;\n",
              "        element.appendChild(docLink);\n",
              "      }\n",
              "    </script>\n",
              "  </div>\n",
              "\n",
              "\n",
              "<div id=\"df-7f716d40-e047-4139-9e35-24ed429a1b71\">\n",
              "  <button class=\"colab-df-quickchart\" onclick=\"quickchart('df-7f716d40-e047-4139-9e35-24ed429a1b71')\"\n",
              "            title=\"Suggest charts\"\n",
              "            style=\"display:none;\">\n",
              "\n",
              "<svg xmlns=\"http://www.w3.org/2000/svg\" height=\"24px\"viewBox=\"0 0 24 24\"\n",
              "     width=\"24px\">\n",
              "    <g>\n",
              "        <path d=\"M19 3H5c-1.1 0-2 .9-2 2v14c0 1.1.9 2 2 2h14c1.1 0 2-.9 2-2V5c0-1.1-.9-2-2-2zM9 17H7v-7h2v7zm4 0h-2V7h2v10zm4 0h-2v-4h2v4z\"/>\n",
              "    </g>\n",
              "</svg>\n",
              "  </button>\n",
              "\n",
              "<style>\n",
              "  .colab-df-quickchart {\n",
              "      --bg-color: #E8F0FE;\n",
              "      --fill-color: #1967D2;\n",
              "      --hover-bg-color: #E2EBFA;\n",
              "      --hover-fill-color: #174EA6;\n",
              "      --disabled-fill-color: #AAA;\n",
              "      --disabled-bg-color: #DDD;\n",
              "  }\n",
              "\n",
              "  [theme=dark] .colab-df-quickchart {\n",
              "      --bg-color: #3B4455;\n",
              "      --fill-color: #D2E3FC;\n",
              "      --hover-bg-color: #434B5C;\n",
              "      --hover-fill-color: #FFFFFF;\n",
              "      --disabled-bg-color: #3B4455;\n",
              "      --disabled-fill-color: #666;\n",
              "  }\n",
              "\n",
              "  .colab-df-quickchart {\n",
              "    background-color: var(--bg-color);\n",
              "    border: none;\n",
              "    border-radius: 50%;\n",
              "    cursor: pointer;\n",
              "    display: none;\n",
              "    fill: var(--fill-color);\n",
              "    height: 32px;\n",
              "    padding: 0;\n",
              "    width: 32px;\n",
              "  }\n",
              "\n",
              "  .colab-df-quickchart:hover {\n",
              "    background-color: var(--hover-bg-color);\n",
              "    box-shadow: 0 1px 2px rgba(60, 64, 67, 0.3), 0 1px 3px 1px rgba(60, 64, 67, 0.15);\n",
              "    fill: var(--button-hover-fill-color);\n",
              "  }\n",
              "\n",
              "  .colab-df-quickchart-complete:disabled,\n",
              "  .colab-df-quickchart-complete:disabled:hover {\n",
              "    background-color: var(--disabled-bg-color);\n",
              "    fill: var(--disabled-fill-color);\n",
              "    box-shadow: none;\n",
              "  }\n",
              "\n",
              "  .colab-df-spinner {\n",
              "    border: 2px solid var(--fill-color);\n",
              "    border-color: transparent;\n",
              "    border-bottom-color: var(--fill-color);\n",
              "    animation:\n",
              "      spin 1s steps(1) infinite;\n",
              "  }\n",
              "\n",
              "  @keyframes spin {\n",
              "    0% {\n",
              "      border-color: transparent;\n",
              "      border-bottom-color: var(--fill-color);\n",
              "      border-left-color: var(--fill-color);\n",
              "    }\n",
              "    20% {\n",
              "      border-color: transparent;\n",
              "      border-left-color: var(--fill-color);\n",
              "      border-top-color: var(--fill-color);\n",
              "    }\n",
              "    30% {\n",
              "      border-color: transparent;\n",
              "      border-left-color: var(--fill-color);\n",
              "      border-top-color: var(--fill-color);\n",
              "      border-right-color: var(--fill-color);\n",
              "    }\n",
              "    40% {\n",
              "      border-color: transparent;\n",
              "      border-right-color: var(--fill-color);\n",
              "      border-top-color: var(--fill-color);\n",
              "    }\n",
              "    60% {\n",
              "      border-color: transparent;\n",
              "      border-right-color: var(--fill-color);\n",
              "    }\n",
              "    80% {\n",
              "      border-color: transparent;\n",
              "      border-right-color: var(--fill-color);\n",
              "      border-bottom-color: var(--fill-color);\n",
              "    }\n",
              "    90% {\n",
              "      border-color: transparent;\n",
              "      border-bottom-color: var(--fill-color);\n",
              "    }\n",
              "  }\n",
              "</style>\n",
              "\n",
              "  <script>\n",
              "    async function quickchart(key) {\n",
              "      const quickchartButtonEl =\n",
              "        document.querySelector('#' + key + ' button');\n",
              "      quickchartButtonEl.disabled = true;  // To prevent multiple clicks.\n",
              "      quickchartButtonEl.classList.add('colab-df-spinner');\n",
              "      try {\n",
              "        const charts = await google.colab.kernel.invokeFunction(\n",
              "            'suggestCharts', [key], {});\n",
              "      } catch (error) {\n",
              "        console.error('Error during call to suggestCharts:', error);\n",
              "      }\n",
              "      quickchartButtonEl.classList.remove('colab-df-spinner');\n",
              "      quickchartButtonEl.classList.add('colab-df-quickchart-complete');\n",
              "    }\n",
              "    (() => {\n",
              "      let quickchartButtonEl =\n",
              "        document.querySelector('#df-7f716d40-e047-4139-9e35-24ed429a1b71 button');\n",
              "      quickchartButtonEl.style.display =\n",
              "        google.colab.kernel.accessAllowed ? 'block' : 'none';\n",
              "    })();\n",
              "  </script>\n",
              "</div>\n",
              "    </div>\n",
              "  </div>\n"
            ],
            "text/plain": [
              "        Rank               Title     Type  Premiere    Genre Watchtime  \\\n",
              "16887  16938       Beecham House  TV Show    2019.0  History  1,00,000   \n",
              "15301  15352  Victorious Mehmets  TV Show    2018.0  History  1,00,000   \n",
              "13279  13330         The Borgias  TV Show    2011.0  History  2,00,000   \n",
              "13274  13325         The Borgias  TV Show    2011.0  History  2,00,000   \n",
              "12210  12261         The Borgias  TV Show    2011.0  History  3,00,000   \n",
              "\n",
              "      Watchtime in Million  \n",
              "16887                 0.1M  \n",
              "15301                 0.1M  \n",
              "13279                 0.2M  \n",
              "13274                 0.2M  \n",
              "12210                 0.3M  "
            ]
          },
          "execution_count": 26,
          "metadata": {},
          "output_type": "execute_result"
        }
      ],
      "source": [
        "df[(df[\"Genre\"]==\"History\")&(df[\"Type\"]==\"TV Show\")&(df[\"Premiere\"]>=2010) & (df[\"Premiere\"]<=2020)].sort_values(by=\"Watchtime in Million\").head(5)"
      ]
    },
    {
      "cell_type": "code",
      "execution_count": null,
      "metadata": {
        "colab": {
          "base_uri": "https://localhost:8080/"
        },
        "id": "jdIWWwW6ugPn",
        "outputId": "e76cd540-8e4f-4c8d-c7ca-063b2fcaa944"
      },
      "outputs": [
        {
          "data": {
            "text/plain": [
              "Index(['Rank', 'Title', 'Type', 'Premiere', 'Genre', 'Watchtime',\n",
              "       'Watchtime in Million'],\n",
              "      dtype='object')"
            ]
          },
          "execution_count": 27,
          "metadata": {},
          "output_type": "execute_result"
        }
      ],
      "source": [
        "df.columns"
      ]
    },
    {
      "cell_type": "markdown",
      "metadata": {
        "id": "KVbpNY-QUFRG"
      },
      "source": [
        "◼ Provide a histogram based on the year, genre, movie,\n",
        "views etc\n"
      ]
    },
    {
      "cell_type": "code",
      "execution_count": null,
      "metadata": {
        "colab": {
          "base_uri": "https://localhost:8080/",
          "height": 668
        },
        "id": "pfOijCHMUG0v",
        "outputId": "e0a6b274-2c21-47c8-ef2e-19cf78d60f77"
      },
      "outputs": [
        {
          "name": "stderr",
          "output_type": "stream",
          "text": [
            "<ipython-input-28-7b300ca6e0d6>:4: SettingWithCopyWarning: \n",
            "A value is trying to be set on a copy of a slice from a DataFrame.\n",
            "Try using .loc[row_indexer,col_indexer] = value instead\n",
            "\n",
            "See the caveats in the documentation: https://pandas.pydata.org/pandas-docs/stable/user_guide/indexing.html#returning-a-view-versus-a-copy\n",
            "  df['Watchtime in Million']=pd.to_numeric(df[\"Watchtime in Million\"].str.replace('M',''))\n"
          ]
        },
        {
          "data": {
            "image/png": "[encoded data removed]",
            "text/plain": [
              "<Figure size 1000x600 with 1 Axes>"
            ]
          },
          "metadata": {},
          "output_type": "display_data"
        }
      ],
      "source": [
        "###◼ Provide a histogram based on the year, genre, movie,views etc\n",
        "df\n",
        "# Convert 'views' column to numeric by removing 'M'\n",
        "df['Watchtime in Million']=pd.to_numeric(df[\"Watchtime in Million\"].str.replace('M',''))\n",
        "# Histogram for 'premiere' (year)\n",
        "plt.figure(figsize=(10, 6))\n",
        "plt.hist(df['Premiere'].dropna(), bins=30, color='Limegreen')\n",
        "plt.xlabel('Year')\n",
        "plt.ylabel('Movies Premiered in each Year')\n",
        "plt.title('Histogram of Premiere Year')\n",
        "plt.grid(True)\n",
        "plt.show()"
      ]
    },
    {
      "cell_type": "code",
      "execution_count": null,
      "metadata": {
        "colab": {
          "base_uri": "https://localhost:8080/",
          "height": 653
        },
        "id": "dgnQgzYvnFsl",
        "outputId": "6ab0d98e-9819-4a00-d1bc-ddb48e99f855"
      },
      "outputs": [
        {
          "data": {
            "image/png": "[encoded data removed]",
            "text/plain": [
              "<Figure size 1000x600 with 1 Axes>"
            ]
          },
          "metadata": {},
          "output_type": "display_data"
        }
      ],
      "source": [
        "# Histogram for 'genre'\n",
        "plt.figure(figsize=(10, 6))\n",
        "df['Genre'].value_counts().plot(kind='bar', color='black')\n",
        "plt.xlabel('Genre')\n",
        "plt.ylabel('Movies belong to each genre')\n",
        "plt.title('Histogram of Genre')\n",
        "plt.grid(True)\n",
        "plt.show()"
      ]
    },
    {
      "cell_type": "code",
      "execution_count": null,
      "metadata": {
        "colab": {
          "base_uri": "https://localhost:8080/",
          "height": 564
        },
        "id": "kVCI_DuunL2k",
        "outputId": "0f9d58a3-0a39-4711-b6f9-e144715a3d69"
      },
      "outputs": [
        {
          "data": {
            "image/png": "[encoded data removed]",
            "text/plain": [
              "<Figure size 1000x600 with 1 Axes>"
            ]
          },
          "metadata": {},
          "output_type": "display_data"
        }
      ],
      "source": [
        "# Histogram for 'views'\n",
        "plt.figure(figsize=(10, 6))\n",
        "plt.hist(df['Watchtime in Million'].dropna(), bins=90, color='maroon')\n",
        "plt.xlabel('Views (in millions)')\n",
        "# frequency represent how many movies has a certain number of views\n",
        "plt.ylabel('Movies has a certain number of views')\n",
        "plt.title('Histogram of Views')\n",
        "plt.grid(True)\n",
        "plt.show()"
      ]
    },
    {
      "cell_type": "markdown",
      "metadata": {
        "id": "vHs5wS-OXWud"
      },
      "source": [
        "◼ Create a piece of software in such a way that, it asks the\n",
        "input from the customer as follows\n",
        "◼ Type of movie or TV show\n",
        "◼ Genre\n",
        "◼ Range of years\n",
        "◼ Number of views"
      ]
    },
    {
      "cell_type": "markdown",
      "metadata": {
        "id": "accjTg-r3rw3"
      },
      "source": []
    },
    {
      "cell_type": "code",
      "execution_count": null,
      "metadata": {
        "id": "oya5O7t0n1d_"
      },
      "outputs": [],
      "source": [
        "# Create a piece of software in such a way that, it asks the input from the customer as follows\n",
        "# Type of movie or TV show\n",
        "# Genre\n",
        " #Range of years\n",
        "#Number of views\n",
        "# Based on the above input, your software should provide a suggested movie to the customer\n",
        "type=input(\"Enter the type:\")\n",
        "g=input(\"genre\")\n",
        "n=int(input(' year starting from n:'))\n",
        "m=int(input(\"year end at m:\"))\n",
        "a=(input(\"views start in million from a:\"))\n",
        "b=(input(\"views end in million b:\"))\n",
        "xy=df[(df[\"Type\"]==type)&(df[\"Genre\"]==g)&((df[\"Premiere\"]>=n)&(df[\"Premiere\"]<=m))&((df[\"Watchtime\"]>=a)&(df[\"Watchtime\"]<=b))].sort_values(by=\"Watchtime\").tail(1)\n",
        "xy['T1itle']"
      ]
    },
    {
      "cell_type": "markdown",
      "metadata": {
        "id": "HbiAl_t_K0GS"
      },
      "source": [
        "***************5 PROBLEMS **********\n",
        "Design another 5 problems that u can extract information and provide to netflix from this dataset\n",
        "\n",
        "```\n",
        "# This is formatted as code\n",
        "```\n",
        "\n"
      ]
    },
    {
      "cell_type": "code",
      "execution_count": null,
      "metadata": {
        "colab": {
          "base_uri": "https://localhost:8080/"
        },
        "id": "dLKHF7wmpUI4",
        "outputId": "c797a199-4b88-4504-ed41-ec5e841544b0"
      },
      "outputs": [
        {
          "name": "stdout",
          "output_type": "stream",
          "text": [
            "Give the year in which you want to see the number of uploaded movie and Tv show: 2023\n",
            "425\n"
          ]
        }
      ],
      "source": [
        "#### 1) In a particular year how many movie and Tv show uploaded by netflix\n",
        "year=int(input(\"Give the year in which you want to see the number of uploaded movie and Tv show: \"))\n",
        "dfy=df[df[\"Premiere\"]==year]\n",
        "dfyu=dfy['Title'].unique()\n",
        "print(len(dfyu))"
      ]
    },
    {
      "cell_type": "code",
      "execution_count": null,
      "metadata": {
        "colab": {
          "base_uri": "https://localhost:8080/"
        },
        "id": "LXmjw2JHqm3j",
        "outputId": "f82d6ed7-2f87-4fcb-e4ae-a7623fd6228e"
      },
      "outputs": [
        {
          "name": "stdout",
          "output_type": "stream",
          "text": [
            "Give the genre:Comedy\n",
            "82\n"
          ]
        }
      ],
      "source": [
        "### 2)In a particular year how much movie and Tv show uploaded of a particular genre\n",
        "genre=input(\"Give the genre:\")\n",
        "dfyg=dfy[dfy[\"Genre\"]==genre]\n",
        "dfygu=dfyg['Title'].unique()\n",
        "print(len(dfygu))"
      ]
    },
    {
      "cell_type": "code",
      "execution_count": null,
      "metadata": {
        "colab": {
          "base_uri": "https://localhost:8080/"
        },
        "id": "Hhua95xLtdIx",
        "outputId": "5750c1e0-ddb6-41e4-96c3-b776694e07eb"
      },
      "outputs": [
        {
          "name": "stdout",
          "output_type": "stream",
          "text": [
            "give the year:2005\n",
            "Genre of movie: 287    Drama\n",
            "Name: Genre, dtype: object\n",
            "Title of Movie/TV Show : 287    Grey's Anatomy\n",
            "Name: Title, dtype: object\n",
            "Type of title 287    TV Show\n",
            "Name: Type, dtype: object\n"
          ]
        }
      ],
      "source": [
        "##### 3) In a particular year which  movie has most watched and what is the genre of this movie\n",
        "year=int(input(\"give the year:\"))\n",
        "dfy=df[df[\"Premiere\"]==year]\n",
        "dfyw=dfy.sort_values(by=\"Watchtime in Million\")\n",
        "dfyws=dfyw.tail(1)\n",
        "\n",
        "dfywsg=dfyws[dfyws[\"Premiere\"]==year][\"Genre\"]\n",
        "print(\"Genre of movie:\",dfywsg)\n",
        "dfywst=dfyws[dfyws[\"Premiere\"]==year][\"Title\"]\n",
        "print(\"Title of Movie/TV Show :\",dfywst)\n",
        "dfywsty=dfyws[dfyws[\"Premiere\"]==year][\"Type\"]\n",
        "print(\"Type of title\",dfywsty)"
      ]
    },
    {
      "cell_type": "code",
      "execution_count": null,
      "metadata": {
        "colab": {
          "base_uri": "https://localhost:8080/"
        },
        "id": "lV4UwdWF4Atl",
        "outputId": "c8f72180-be8e-4214-9b62-3697638bf666"
      },
      "outputs": [
        {
          "name": "stdout",
          "output_type": "stream",
          "text": [
            "give the year:2005\n",
            "6.002127659574468\n"
          ]
        }
      ],
      "source": [
        "### 4) comparison between movies and tv shows\n",
        "year_=int(input(\"give the year:\"))\n",
        "dfy=df[df[\"Premiere\"]==year_]\n",
        "\n",
        "\n",
        "dfyt=dfy[dfy['Type']==\"TV Show\"]#[\"Title\"]#.unique()\n",
        "dfytu=dfy[dfy['Type']==\"TV Show\"][\"Title\"].unique()\n",
        "dfym=dfy[dfy['Type']=='Movie']#['Title']#.unique()\n",
        "dfymu=dfy[dfy['Type']==\"Movie\"][\"Title\"].unique()\n",
        "#x = pd.to_numeric(dfym['Watchtime in Million'], errors='coerce')  # Convert to numeric, coerce errors to NaN\n",
        "#x.mean()  # Calculate the mean\n",
        "\n",
        "x=pd.to_numeric(dfym[\"Watchtime in Million\"].str.replace('M',''))\n",
        "x.mean()\n",
        "y=pd.to_numeric(dfyt['Watchtime in Million'].str.replace('M',''))\n",
        "y.mean()\n",
        "#y = pd.to_numeric(dfyt['Watchtime in Million'], errors='coerce')  # Convert to numeric, coerce errors to NaN\n",
        "#y.mean()  # Calculate the mean\n",
        "\n",
        "c=dfym.sort_values(by=\"Watchtime\")\n",
        "e=c.tail(1)[\"Watchtime\"]\n",
        "\n",
        "d=dfyt.sort_values(by=\"Watchtime\")\n",
        "f=d.tail(1)[\"Watchtime\"]\n",
        "\n",
        "print(x.mean())\n",
        "\n"
      ]
    },
    {
      "cell_type": "code",
      "execution_count": null,
      "metadata": {
        "colab": {
          "base_uri": "https://localhost:8080/"
        },
        "id": "2AijKrl5BJde",
        "outputId": "d77dc983-cf51-4d8d-a081-bdef0fd5cb2c"
      },
      "outputs": [
        {
          "data": {
            "text/plain": [
              "dtype('O')"
            ]
          },
          "execution_count": 25,
          "metadata": {},
          "output_type": "execute_result"
        }
      ],
      "source": [
        "dfym[\"Watchtime in Million\"].dtype"
      ]
    },
    {
      "cell_type": "code",
      "execution_count": null,
      "metadata": {
        "id": "aVWasCZM_-dZ"
      },
      "outputs": [],
      "source": [
        "### Define a Function\n",
        "def greater(a,b):\n",
        "  if a>b:\n",
        "    #print(a,\"is greater than\",b)\n",
        "    return a\n",
        "  elif a<b:\n",
        "    #print(b,\"is greater than\",a)\n",
        "    return b\n",
        "  else:\n",
        "    #print(a,\"and\",b,\"both are equal\")\n",
        "    return a"
      ]
    },
    {
      "cell_type": "code",
      "execution_count": null,
      "metadata": {
        "colab": {
          "base_uri": "https://localhost:8080/"
        },
        "id": "80Dzi6bXCCl3",
        "outputId": "51fc5fe6-5b71-4869-8fb7-1443873bafe7"
      },
      "outputs": [
        {
          "name": "stdout",
          "output_type": "stream",
          "text": [
            "number of movie uploaded is: 161\n",
            "number of TV Show is: 26\n",
            "Most Watched Movie name is: 2146    Pride & Prejudice\n",
            "Name: Title, dtype: object\n",
            "Most Watched TV Show is: 2072    Supernatural\n",
            "Name: Title, dtype: object\n",
            "Watchtime mean of movie is: 6.002127659574468\n",
            "Watchtime mean of TV Show is: 16.892592592592592\n",
            "16.892592592592592\n",
            "The most watched movie watchtime is : 2146    92,00,000\n",
            "Name: Watchtime, dtype: object\n",
            "The most watched Tv Show watchtime is : 2072    99,00,000\n",
            "Name: Watchtime, dtype: object\n"
          ]
        }
      ],
      "source": [
        "\n",
        "print(\"number of movie uploaded is:\",len(dfymu))\n",
        "print(\"number of TV Show is:\",len(dfytu))\n",
        "a=greater(len(dfym),len(dfyt))\n",
        "a\n",
        "print(\"Most Watched Movie name is:\",c.tail(1)[\"Title\"])\n",
        "print(\"Most Watched TV Show is:\",d.tail(1)[\"Title\"])\n",
        "\n",
        "\n",
        "print(\"Watchtime mean of movie is:\",x.mean())\n",
        "print(\"Watchtime mean of TV Show is:\",y.mean())\n",
        "b=greater(x.mean(),y.mean())\n",
        "print(b)\n",
        "print(\"The most watched movie watchtime is :\",e)\n",
        "print(\"The most watched Tv Show watchtime is :\",f)\n",
        "\n"
      ]
    },
    {
      "cell_type": "code",
      "execution_count": null,
      "metadata": {
        "colab": {
          "base_uri": "https://localhost:8080/"
        },
        "id": "5nulPG3FP_tm",
        "outputId": "be045a2a-aabb-473c-ea6d-10bdc0affe0d"
      },
      "outputs": [
        {
          "name": "stdout",
          "output_type": "stream",
          "text": [
            "Give the first genreAction\n",
            "Give the second genreAnimation\n",
            "Give the third genreScience Fiction\n",
            "Give the fourth genreThriller\n",
            "Give the fifth genreHorror\n",
            "Give the sixth genreDrama\n",
            "Give the seventh genreAdventure\n",
            "Give the year:2005\n",
            "2848     6.5\n",
            "5046     2.7\n",
            "5913     2.0\n",
            "6342     1.7\n",
            "6441     1.6\n",
            "7050     1.3\n",
            "9147     0.7\n",
            "9618     0.6\n",
            "10497    0.4\n",
            "11600    0.3\n",
            "11769    0.3\n",
            "11915    0.3\n",
            "14018    0.2\n",
            "14638    0.1\n",
            "16475    0.1\n",
            "16663    0.1\n",
            "17537    0.1\n",
            "18071    0.1\n",
            "Name: Watchtime in Million, dtype: float64\n",
            "1.0611111111111111\n"
          ]
        }
      ],
      "source": [
        "### 5)In a particular year which type of movie is most watched in the given 7 genres\n",
        "genre_1=input(\"Give the first genre\")\n",
        "genre_2=input(\"Give the second genre\")\n",
        "genre_3=input(\"Give the third genre\")\n",
        "genre_4=input(\"Give the fourth genre\")\n",
        "genre_5=input(\"Give the fifth genre\")\n",
        "genre_6=input(\"Give the sixth genre\")\n",
        "genre_7=input(\"Give the seventh genre\")\n",
        "\n",
        "year__=int(input(\"Give the year:\"))\n",
        "dfyr=df[df[\"Premiere\"]==year__]\n",
        "dfyrm=dfyr[dfyr[\"Type\"]==\"Movie\"]\n",
        "dd=dfyrm[dfyrm[\"Genre\"]==genre_1]\n",
        "#ddw= pd.to_numeric(dd['Watchtime in Million'], errors='coerce')  # Convert to numeric, coerce errors to NaN\n",
        "#x=ddw.mean()  # Calculate the mean\n",
        "\n",
        "ddw=pd.to_numeric(dd[\"Watchtime in Million\"].str.replace('M',''))\n",
        "print(ddw)\n",
        "x=ddw.mean()\n",
        "print(x)\n"
      ]
    },
    {
      "cell_type": "code",
      "execution_count": null,
      "metadata": {
        "id": "vEjCWxVjuNm0"
      },
      "outputs": [],
      "source": [
        "da=dfyrm[dfyrm[\"Genre\"]==genre_2]\n",
        "#daw = pd.to_numeric(da['Watchtime in Million'], errors='coerce')  # Convert to numeric, coerce errors to NaN\n",
        "#x1=daw.mean()  # Calculate the mean\n",
        "\n",
        "daw=pd.to_numeric(da[\"Watchtime in Million\"].str.replace('M',''))\n",
        "x1=daw.mean()"
      ]
    },
    {
      "cell_type": "code",
      "execution_count": null,
      "metadata": {
        "id": "bWE7DqGquOqD"
      },
      "outputs": [],
      "source": [
        "dan=dfyrm[dfyrm[\"Genre\"]==genre_3]\n",
        "#danw = pd.to_numeric(dan['Watchtime in Million'], errors='coerce')  # Convert to numeric, coerce errors to NaN\n",
        "#x2=danw.mean()  # Calculate the mean\n",
        "\n",
        "danw=pd.to_numeric(dan[\"Watchtime in Million\"].str.replace('M',''))\n",
        "x2=danw.mean()"
      ]
    },
    {
      "cell_type": "code",
      "execution_count": null,
      "metadata": {
        "id": "d0C6JkT5uPf7"
      },
      "outputs": [],
      "source": [
        "ds=dfyrm[dfyrm[\"Genre\"]==genre_4]\n",
        "#dsw= pd.to_numeric(ds['Watchtime in Million'], errors='coerce')  # Convert to numeric, coerce errors to NaN\n",
        "#x3=dsw.mean()  # Calculate the mean\n",
        "\n",
        "dsw=pd.to_numeric(ds[\"Watchtime in Million\"].str.replace('M',''))\n",
        "x3=dsw.mean()"
      ]
    },
    {
      "cell_type": "code",
      "execution_count": null,
      "metadata": {
        "id": "Sd3POQmXuQdc"
      },
      "outputs": [],
      "source": [
        "dc=dfyrm[dfyrm[\"Genre\"]==genre_5]\n",
        "#dcw= pd.to_numeric(dd['Watchtime in Million'], errors='coerce')  # Convert to numeric, coerce errors to NaN\n",
        "#x4=dcw.mean()  # Calculate the mean\n",
        "\n",
        "dcw=pd.to_numeric(dd[\"Watchtime in Million\"].str.replace('M',''))\n",
        "x4=dcw.mean()"
      ]
    },
    {
      "cell_type": "code",
      "execution_count": null,
      "metadata": {
        "id": "ssnESk7SuRoL"
      },
      "outputs": [],
      "source": [
        "dr=dfyrm[dfyrm[\"Genre\"]==genre_6]\n",
        "#drw= pd.to_numeric(dr['Watchtime in Million'], errors='coerce')  # Convert to numeric, coerce errors to NaN\n",
        "#x5=drw.mean()  # Calculate the mean\n",
        "\n",
        "drw=pd.to_numeric(dr[\"Watchtime in Million\"].str.replace('M',''))\n",
        "x5=drw.mean()"
      ]
    },
    {
      "cell_type": "code",
      "execution_count": null,
      "metadata": {
        "colab": {
          "base_uri": "https://localhost:8080/"
        },
        "id": "wbAKryVEuSxA",
        "outputId": "9340af9b-f3f2-48cb-cbf0-1cc34b95409e"
      },
      "outputs": [
        {
          "name": "stdout",
          "output_type": "stream",
          "text": [
            "6.275\n"
          ]
        }
      ],
      "source": [
        "dac=dfyrm[dfyrm[\"Genre\"]==genre_7]\n",
        "#dacw= pd.to_numeric(dac['Watchtime in Million'], errors='coerce')  # Convert to numeric, coerce errors to NaN\n",
        "#x6=dacw.mean()  # Calculate the mean\n",
        "\n",
        "dacw=pd.to_numeric(dac[\"Watchtime in Million\"].str.replace('M',''))\n",
        "x6=dacw.mean()\n",
        "print(x6)"
      ]
    },
    {
      "cell_type": "code",
      "execution_count": null,
      "metadata": {
        "colab": {
          "base_uri": "https://localhost:8080/"
        },
        "id": "p65iGKnPw8f_",
        "outputId": "6df779a8-bcd5-499c-b81c-9f0854a64845"
      },
      "outputs": [
        {
          "name": "stdout",
          "output_type": "stream",
          "text": [
            "Mean of watchtime of  Action  is: 1.0611111111111111\n",
            "Mean of watchtime of  Animation  is: 2.93\n",
            "Mean of watchtime of  Science Fiction  is: 4.05\n",
            "Mean of watchtime of  Thriller  is: 0.9083333333333333\n",
            "Mean of watchtime of Horror is: 1.0611111111111111\n",
            "Mean of watchtime of  Drama is: 2.3956521739130436\n",
            "Mean of watchtime of  Adventure  is: 6.275\n"
          ]
        },
        {
          "data": {
            "text/plain": [
              "6.275"
            ]
          },
          "execution_count": 22,
          "metadata": {},
          "output_type": "execute_result"
        }
      ],
      "source": [
        "print(\"Mean of watchtime of \",genre_1,\" is:\",x)\n",
        "print(\"Mean of watchtime of \",genre_2,\" is:\",x1)\n",
        "print(\"Mean of watchtime of \",genre_3,\" is:\",x2)\n",
        "print(\"Mean of watchtime of \",genre_4,\" is:\",x3)\n",
        "print(\"Mean of watchtime of\", genre_5,\"is:\",x4)\n",
        "print(\"Mean of watchtime of \",genre_6,\"is:\",x5)\n",
        "print(\"Mean of watchtime of \",genre_7,\" is:\",x6)\n",
        "\n",
        "\n",
        "\n",
        "greater(greater(greater(greater(greater(greater(x,x1),x2),x3),x4),x5),x6)"
      ]
    },
    {
      "cell_type": "markdown",
      "metadata": {
        "id": "TqfRXZK5f6Sq"
      },
      "source": [
        "◼ If you are employed in Netflix, what would be your\n",
        "recommendation to purchase a new movie?"
      ]
    },
    {
      "cell_type": "code",
      "execution_count": null,
      "metadata": {
        "colab": {
          "base_uri": "https://localhost:8080/"
        },
        "id": "dCcxF-yIRycn",
        "outputId": "792db969-53d2-48c2-944b-5268054dc07a"
      },
      "outputs": [
        {
          "name": "stdout",
          "output_type": "stream",
          "text": [
            "year2023\n"
          ]
        },
        {
          "data": {
            "text/plain": [
              "89    Comedy\n",
              "Name: Genre, dtype: object"
            ]
          },
          "execution_count": 3,
          "metadata": {},
          "output_type": "execute_result"
        }
      ],
      "source": [
        "## If you are employed in Netflix,what would be your recommendation to purchase a new movie?\n",
        "\n",
        "yr=int(input('year'))\n",
        "dfyr=df[df[\"Premiere\"]==yr]\n",
        "dfyr.sort_values(\"Watchtime in Million\")['Genre'].tail(1)\n",
        "\n",
        "\n"
      ]
    },
    {
      "cell_type": "code",
      "execution_count": null,
      "metadata": {
        "colab": {
          "base_uri": "https://localhost:8080/"
        },
        "id": "D-fRiw3rkJAS",
        "outputId": "e0156a8c-864e-4ef7-afd1-963e25579dc3"
      },
      "outputs": [
        {
          "name": "stdout",
          "output_type": "stream",
          "text": [
            "Year :2005\n",
            "no. of comedy movie is: 31\n",
            "No. of drama movie is: 0\n",
            "No. of animation movie is: 10\n",
            "No. of adventure movie is: 4\n",
            "No. of Science Fiction movie is: 8\n",
            "No. of romance movie is: 9\n",
            "No. of action movie is: 18\n"
          ]
        }
      ],
      "source": [
        "### If you are customer , what would be your complains or recommendation to their movie collection based on this data set\n",
        "Y=int(input('Year :'))\n",
        "df[df[\"Premiere\"]==Y]\n",
        "l1=len(dc)\n",
        "l2=len(dd)\n",
        "l3=len(dan)\n",
        "l4=len(da)\n",
        "l5=len(ds)\n",
        "l6=len(dr)\n",
        "l7=len(dac)\n",
        "print(\"no. of comedy movie is:\",len(dc))\n",
        "print(\"No. of drama movie is:\",len(dd))\n",
        "print(\"No. of animation movie is:\",len(dan))\n",
        "print(\"No. of adventure movie is:\",len(da))\n",
        "print(\"No. of Science Fiction movie is:\",len(ds))\n",
        "print(\"No. of romance movie is:\",len(dr))\n",
        "print(\"No. of action movie is:\",len(dac))\n"
      ]
    },
    {
      "cell_type": "code",
      "execution_count": null,
      "metadata": {
        "id": "O0KCcbkXsk9S"
      },
      "outputs": [],
      "source": [
        "def smaller(a,b):\n",
        "  if a<=b:\n",
        "    return a\n",
        "  else:\n",
        "    return b"
      ]
    },
    {
      "cell_type": "code",
      "execution_count": null,
      "metadata": {
        "colab": {
          "base_uri": "https://localhost:8080/"
        },
        "id": "36zJqU-xs7X_",
        "outputId": "4460891b-9d28-4b45-b5b6-57829875cf7d"
      },
      "outputs": [
        {
          "data": {
            "text/plain": [
              "0"
            ]
          },
          "execution_count": 81,
          "metadata": {},
          "output_type": "execute_result"
        }
      ],
      "source": [
        "smaller(smaller(smaller(smaller(smaller(smaller(l1,l2),l3),l4),l5),l6),l7)"
      ]
    },
    {
      "cell_type": "code",
      "execution_count": null,
      "metadata": {
        "colab": {
          "base_uri": "https://localhost:8080/",
          "height": 441
        },
        "id": "sLCbTn94FRav",
        "outputId": "6b6ef7f8-92ce-4900-cd89-3af56f17f728"
      },
      "outputs": [
        {
          "name": "stdout",
          "output_type": "stream",
          "text": [
            "Enter which type of movie u want to show:Comedy\n"
          ]
        },
        {
          "data": {
            "application/vnd.google.colaboratory.intrinsic+json": {
              "summary": "{\n  \"name\": \"df[df[\\\"Genre\\\"]==genre]\",\n  \"rows\": 3946,\n  \"fields\": [\n    {\n      \"column\": \"Rank\",\n      \"properties\": {\n        \"dtype\": \"number\",\n        \"std\": 5105,\n        \"min\": 16,\n        \"max\": 18213,\n        \"num_unique_values\": 3946,\n        \"samples\": [\n          13084,\n          6377,\n          12178\n        ],\n        \"semantic_type\": \"\",\n        \"description\": \"\"\n      }\n    },\n    {\n      \"column\": \"Title\",\n      \"properties\": {\n        \"dtype\": \"string\",\n        \"num_unique_values\": 3287,\n        \"samples\": [\n          \"Cr\\u00f4\",\n          \"The Secret Diary of an Exchange Student\",\n          \"Ah Boys To Men (Part 2)\"\n        ],\n        \"semantic_type\": \"\",\n        \"description\": \"\"\n      }\n    },\n    {\n      \"column\": \"Type\",\n      \"properties\": {\n        \"dtype\": \"category\",\n        \"num_unique_values\": 2,\n        \"samples\": [\n          \"Movie\",\n          \"TV Show\"\n        ],\n        \"semantic_type\": \"\",\n        \"description\": \"\"\n      }\n    },\n    {\n      \"column\": \"Premiere\",\n      \"properties\": {\n        \"dtype\": \"number\",\n        \"std\": 9.065786319084832,\n        \"min\": 1958.0,\n        \"max\": 2023.0,\n        \"num_unique_values\": 57,\n        \"samples\": [\n          2023.0,\n          2021.0\n        ],\n        \"semantic_type\": \"\",\n        \"description\": \"\"\n      }\n    },\n    {\n      \"column\": \"Genre\",\n      \"properties\": {\n        \"dtype\": \"category\",\n        \"num_unique_values\": 1,\n        \"samples\": [\n          \"Comedy\"\n        ],\n        \"semantic_type\": \"\",\n        \"description\": \"\"\n      }\n    },\n    {\n      \"column\": \"Watchtime\",\n      \"properties\": {\n        \"dtype\": \"category\",\n        \"num_unique_values\": 323,\n        \"samples\": [\n          \"1,64,00,000\"\n        ],\n        \"semantic_type\": \"\",\n        \"description\": \"\"\n      }\n    },\n    {\n      \"column\": \"Watchtime in Million\",\n      \"properties\": {\n        \"dtype\": \"category\",\n        \"num_unique_values\": 323,\n        \"samples\": [\n          \"16.4M\"\n        ],\n        \"semantic_type\": \"\",\n        \"description\": \"\"\n      }\n    }\n  ]\n}",
              "type": "dataframe"
            },
            "text/html": [
              "\n",
              "  <div id=\"df-a2ee00ea-94a4-44e8-9e53-913603b4ef8a\" class=\"colab-df-container\">\n",
              "    <div>\n",
              "<style scoped>\n",
              "    .dataframe tbody tr th:only-of-type {\n",
              "        vertical-align: middle;\n",
              "    }\n",
              "\n",
              "    .dataframe tbody tr th {\n",
              "        vertical-align: top;\n",
              "    }\n",
              "\n",
              "    .dataframe thead th {\n",
              "        text-align: right;\n",
              "    }\n",
              "</style>\n",
              "<table border=\"1\" class=\"dataframe\">\n",
              "  <thead>\n",
              "    <tr style=\"text-align: right;\">\n",
              "      <th></th>\n",
              "      <th>Rank</th>\n",
              "      <th>Title</th>\n",
              "      <th>Type</th>\n",
              "      <th>Premiere</th>\n",
              "      <th>Genre</th>\n",
              "      <th>Watchtime</th>\n",
              "      <th>Watchtime in Million</th>\n",
              "    </tr>\n",
              "  </thead>\n",
              "  <tbody>\n",
              "    <tr>\n",
              "      <th>15</th>\n",
              "      <td>16</td>\n",
              "      <td>Crash Course In Romance</td>\n",
              "      <td>TV Show</td>\n",
              "      <td>2023.0</td>\n",
              "      <td>Comedy</td>\n",
              "      <td>23,48,00,000</td>\n",
              "      <td>234.8M</td>\n",
              "    </tr>\n",
              "    <tr>\n",
              "      <th>17</th>\n",
              "      <td>18</td>\n",
              "      <td>Beef</td>\n",
              "      <td>TV Show</td>\n",
              "      <td>2023.0</td>\n",
              "      <td>Comedy</td>\n",
              "      <td>22,11,00,000</td>\n",
              "      <td>221.1M</td>\n",
              "    </tr>\n",
              "    <tr>\n",
              "      <th>23</th>\n",
              "      <td>24</td>\n",
              "      <td>XO, Kitty</td>\n",
              "      <td>TV Show</td>\n",
              "      <td>2023.0</td>\n",
              "      <td>Comedy</td>\n",
              "      <td>20,07,00,000</td>\n",
              "      <td>200.7M</td>\n",
              "    </tr>\n",
              "    <tr>\n",
              "      <th>24</th>\n",
              "      <td>25</td>\n",
              "      <td>Doctor Cha</td>\n",
              "      <td>TV Show</td>\n",
              "      <td>2023.0</td>\n",
              "      <td>Comedy</td>\n",
              "      <td>19,47,00,000</td>\n",
              "      <td>194.7M</td>\n",
              "    </tr>\n",
              "    <tr>\n",
              "      <th>28</th>\n",
              "      <td>29</td>\n",
              "      <td>You People</td>\n",
              "      <td>Movie</td>\n",
              "      <td>2023.0</td>\n",
              "      <td>Comedy</td>\n",
              "      <td>18,18,00,000</td>\n",
              "      <td>181.8M</td>\n",
              "    </tr>\n",
              "    <tr>\n",
              "      <th>...</th>\n",
              "      <td>...</td>\n",
              "      <td>...</td>\n",
              "      <td>...</td>\n",
              "      <td>...</td>\n",
              "      <td>...</td>\n",
              "      <td>...</td>\n",
              "      <td>...</td>\n",
              "    </tr>\n",
              "    <tr>\n",
              "      <th>18152</th>\n",
              "      <td>18203</td>\n",
              "      <td>My best enemy</td>\n",
              "      <td>Movie</td>\n",
              "      <td>2006.0</td>\n",
              "      <td>Comedy</td>\n",
              "      <td>1,00,000</td>\n",
              "      <td>0.1M</td>\n",
              "    </tr>\n",
              "    <tr>\n",
              "      <th>18157</th>\n",
              "      <td>18208</td>\n",
              "      <td>Patton Oswalt: I Love Everything</td>\n",
              "      <td>Movie</td>\n",
              "      <td>2020.0</td>\n",
              "      <td>Comedy</td>\n",
              "      <td>1,00,000</td>\n",
              "      <td>0.1M</td>\n",
              "    </tr>\n",
              "    <tr>\n",
              "      <th>18158</th>\n",
              "      <td>18209</td>\n",
              "      <td>Rules of Dating</td>\n",
              "      <td>Movie</td>\n",
              "      <td>2005.0</td>\n",
              "      <td>Comedy</td>\n",
              "      <td>1,00,000</td>\n",
              "      <td>0.1M</td>\n",
              "    </tr>\n",
              "    <tr>\n",
              "      <th>18161</th>\n",
              "      <td>18212</td>\n",
              "      <td>The Bishop's Bedroom</td>\n",
              "      <td>Movie</td>\n",
              "      <td>1977.0</td>\n",
              "      <td>Comedy</td>\n",
              "      <td>1,00,000</td>\n",
              "      <td>0.1M</td>\n",
              "    </tr>\n",
              "    <tr>\n",
              "      <th>18162</th>\n",
              "      <td>18213</td>\n",
              "      <td>30 Chưa Phải Tết</td>\n",
              "      <td>Movie</td>\n",
              "      <td>2020.0</td>\n",
              "      <td>Comedy</td>\n",
              "      <td>1,00,000</td>\n",
              "      <td>0.1M</td>\n",
              "    </tr>\n",
              "  </tbody>\n",
              "</table>\n",
              "<p>3946 rows × 7 columns</p>\n",
              "</div>\n",
              "    <div class=\"colab-df-buttons\">\n",
              "\n",
              "  <div class=\"colab-df-container\">\n",
              "    <button class=\"colab-df-convert\" onclick=\"convertToInteractive('df-a2ee00ea-94a4-44e8-9e53-913603b4ef8a')\"\n",
              "            title=\"Convert this dataframe to an interactive table.\"\n",
              "            style=\"display:none;\">\n",
              "\n",
              "  <svg xmlns=\"http://www.w3.org/2000/svg\" height=\"24px\" viewBox=\"0 -960 960 960\">\n",
              "    <path d=\"M120-120v-720h720v720H120Zm60-500h600v-160H180v160Zm220 220h160v-160H400v160Zm0 220h160v-160H400v160ZM180-400h160v-160H180v160Zm440 0h160v-160H620v160ZM180-180h160v-160H180v160Zm440 0h160v-160H620v160Z\"/>\n",
              "  </svg>\n",
              "    </button>\n",
              "\n",
              "  <style>\n",
              "    .colab-df-container {\n",
              "      display:flex;\n",
              "      gap: 12px;\n",
              "    }\n",
              "\n",
              "    .colab-df-convert {\n",
              "      background-color: #E8F0FE;\n",
              "      border: none;\n",
              "      border-radius: 50%;\n",
              "      cursor: pointer;\n",
              "      display: none;\n",
              "      fill: #1967D2;\n",
              "      height: 32px;\n",
              "      padding: 0 0 0 0;\n",
              "      width: 32px;\n",
              "    }\n",
              "\n",
              "    .colab-df-convert:hover {\n",
              "      background-color: #E2EBFA;\n",
              "      box-shadow: 0px 1px 2px rgba(60, 64, 67, 0.3), 0px 1px 3px 1px rgba(60, 64, 67, 0.15);\n",
              "      fill: #174EA6;\n",
              "    }\n",
              "\n",
              "    .colab-df-buttons div {\n",
              "      margin-bottom: 4px;\n",
              "    }\n",
              "\n",
              "    [theme=dark] .colab-df-convert {\n",
              "      background-color: #3B4455;\n",
              "      fill: #D2E3FC;\n",
              "    }\n",
              "\n",
              "    [theme=dark] .colab-df-convert:hover {\n",
              "      background-color: #434B5C;\n",
              "      box-shadow: 0px 1px 3px 1px rgba(0, 0, 0, 0.15);\n",
              "      filter: drop-shadow(0px 1px 2px rgba(0, 0, 0, 0.3));\n",
              "      fill: #FFFFFF;\n",
              "    }\n",
              "  </style>\n",
              "\n",
              "    <script>\n",
              "      const buttonEl =\n",
              "        document.querySelector('#df-a2ee00ea-94a4-44e8-9e53-913603b4ef8a button.colab-df-convert');\n",
              "      buttonEl.style.display =\n",
              "        google.colab.kernel.accessAllowed ? 'block' : 'none';\n",
              "\n",
              "      async function convertToInteractive(key) {\n",
              "        const element = document.querySelector('#df-a2ee00ea-94a4-44e8-9e53-913603b4ef8a');\n",
              "        const dataTable =\n",
              "          await google.colab.kernel.invokeFunction('convertToInteractive',\n",
              "                                                    [key], {});\n",
              "        if (!dataTable) return;\n",
              "\n",
              "        const docLinkHtml = 'Like what you see? Visit the ' +\n",
              "          '<a target=\"_blank\" href=https://colab.research.google.com/notebooks/data_table.ipynb>data table notebook</a>'\n",
              "          + ' to learn more about interactive tables.';\n",
              "        element.innerHTML = '';\n",
              "        dataTable['output_type'] = 'display_data';\n",
              "        await google.colab.output.renderOutput(dataTable, element);\n",
              "        const docLink = document.createElement('div');\n",
              "        docLink.innerHTML = docLinkHtml;\n",
              "        element.appendChild(docLink);\n",
              "      }\n",
              "    </script>\n",
              "  </div>\n",
              "\n",
              "\n",
              "<div id=\"df-0e559988-a2c8-4eaf-bf9d-bfe81ce6da2d\">\n",
              "  <button class=\"colab-df-quickchart\" onclick=\"quickchart('df-0e559988-a2c8-4eaf-bf9d-bfe81ce6da2d')\"\n",
              "            title=\"Suggest charts\"\n",
              "            style=\"display:none;\">\n",
              "\n",
              "<svg xmlns=\"http://www.w3.org/2000/svg\" height=\"24px\"viewBox=\"0 0 24 24\"\n",
              "     width=\"24px\">\n",
              "    <g>\n",
              "        <path d=\"M19 3H5c-1.1 0-2 .9-2 2v14c0 1.1.9 2 2 2h14c1.1 0 2-.9 2-2V5c0-1.1-.9-2-2-2zM9 17H7v-7h2v7zm4 0h-2V7h2v10zm4 0h-2v-4h2v4z\"/>\n",
              "    </g>\n",
              "</svg>\n",
              "  </button>\n",
              "\n",
              "<style>\n",
              "  .colab-df-quickchart {\n",
              "      --bg-color: #E8F0FE;\n",
              "      --fill-color: #1967D2;\n",
              "      --hover-bg-color: #E2EBFA;\n",
              "      --hover-fill-color: #174EA6;\n",
              "      --disabled-fill-color: #AAA;\n",
              "      --disabled-bg-color: #DDD;\n",
              "  }\n",
              "\n",
              "  [theme=dark] .colab-df-quickchart {\n",
              "      --bg-color: #3B4455;\n",
              "      --fill-color: #D2E3FC;\n",
              "      --hover-bg-color: #434B5C;\n",
              "      --hover-fill-color: #FFFFFF;\n",
              "      --disabled-bg-color: #3B4455;\n",
              "      --disabled-fill-color: #666;\n",
              "  }\n",
              "\n",
              "  .colab-df-quickchart {\n",
              "    background-color: var(--bg-color);\n",
              "    border: none;\n",
              "    border-radius: 50%;\n",
              "    cursor: pointer;\n",
              "    display: none;\n",
              "    fill: var(--fill-color);\n",
              "    height: 32px;\n",
              "    padding: 0;\n",
              "    width: 32px;\n",
              "  }\n",
              "\n",
              "  .colab-df-quickchart:hover {\n",
              "    background-color: var(--hover-bg-color);\n",
              "    box-shadow: 0 1px 2px rgba(60, 64, 67, 0.3), 0 1px 3px 1px rgba(60, 64, 67, 0.15);\n",
              "    fill: var(--button-hover-fill-color);\n",
              "  }\n",
              "\n",
              "  .colab-df-quickchart-complete:disabled,\n",
              "  .colab-df-quickchart-complete:disabled:hover {\n",
              "    background-color: var(--disabled-bg-color);\n",
              "    fill: var(--disabled-fill-color);\n",
              "    box-shadow: none;\n",
              "  }\n",
              "\n",
              "  .colab-df-spinner {\n",
              "    border: 2px solid var(--fill-color);\n",
              "    border-color: transparent;\n",
              "    border-bottom-color: var(--fill-color);\n",
              "    animation:\n",
              "      spin 1s steps(1) infinite;\n",
              "  }\n",
              "\n",
              "  @keyframes spin {\n",
              "    0% {\n",
              "      border-color: transparent;\n",
              "      border-bottom-color: var(--fill-color);\n",
              "      border-left-color: var(--fill-color);\n",
              "    }\n",
              "    20% {\n",
              "      border-color: transparent;\n",
              "      border-left-color: var(--fill-color);\n",
              "      border-top-color: var(--fill-color);\n",
              "    }\n",
              "    30% {\n",
              "      border-color: transparent;\n",
              "      border-left-color: var(--fill-color);\n",
              "      border-top-color: var(--fill-color);\n",
              "      border-right-color: var(--fill-color);\n",
              "    }\n",
              "    40% {\n",
              "      border-color: transparent;\n",
              "      border-right-color: var(--fill-color);\n",
              "      border-top-color: var(--fill-color);\n",
              "    }\n",
              "    60% {\n",
              "      border-color: transparent;\n",
              "      border-right-color: var(--fill-color);\n",
              "    }\n",
              "    80% {\n",
              "      border-color: transparent;\n",
              "      border-right-color: var(--fill-color);\n",
              "      border-bottom-color: var(--fill-color);\n",
              "    }\n",
              "    90% {\n",
              "      border-color: transparent;\n",
              "      border-bottom-color: var(--fill-color);\n",
              "    }\n",
              "  }\n",
              "</style>\n",
              "\n",
              "  <script>\n",
              "    async function quickchart(key) {\n",
              "      const quickchartButtonEl =\n",
              "        document.querySelector('#' + key + ' button');\n",
              "      quickchartButtonEl.disabled = true;  // To prevent multiple clicks.\n",
              "      quickchartButtonEl.classList.add('colab-df-spinner');\n",
              "      try {\n",
              "        const charts = await google.colab.kernel.invokeFunction(\n",
              "            'suggestCharts', [key], {});\n",
              "      } catch (error) {\n",
              "        console.error('Error during call to suggestCharts:', error);\n",
              "      }\n",
              "      quickchartButtonEl.classList.remove('colab-df-spinner');\n",
              "      quickchartButtonEl.classList.add('colab-df-quickchart-complete');\n",
              "    }\n",
              "    (() => {\n",
              "      let quickchartButtonEl =\n",
              "        document.querySelector('#df-0e559988-a2c8-4eaf-bf9d-bfe81ce6da2d button');\n",
              "      quickchartButtonEl.style.display =\n",
              "        google.colab.kernel.accessAllowed ? 'block' : 'none';\n",
              "    })();\n",
              "  </script>\n",
              "</div>\n",
              "    </div>\n",
              "  </div>\n"
            ],
            "text/plain": [
              "        Rank                             Title     Type  Premiere   Genre  \\\n",
              "15        16           Crash Course In Romance  TV Show    2023.0  Comedy   \n",
              "17        18                              Beef  TV Show    2023.0  Comedy   \n",
              "23        24                         XO, Kitty  TV Show    2023.0  Comedy   \n",
              "24        25                        Doctor Cha  TV Show    2023.0  Comedy   \n",
              "28        29                        You People    Movie    2023.0  Comedy   \n",
              "...      ...                               ...      ...       ...     ...   \n",
              "18152  18203                     My best enemy    Movie    2006.0  Comedy   \n",
              "18157  18208  Patton Oswalt: I Love Everything    Movie    2020.0  Comedy   \n",
              "18158  18209                   Rules of Dating    Movie    2005.0  Comedy   \n",
              "18161  18212              The Bishop's Bedroom    Movie    1977.0  Comedy   \n",
              "18162  18213                  30 Chưa Phải Tết    Movie    2020.0  Comedy   \n",
              "\n",
              "          Watchtime Watchtime in Million  \n",
              "15     23,48,00,000               234.8M  \n",
              "17     22,11,00,000               221.1M  \n",
              "23     20,07,00,000               200.7M  \n",
              "24     19,47,00,000               194.7M  \n",
              "28     18,18,00,000               181.8M  \n",
              "...             ...                  ...  \n",
              "18152      1,00,000                 0.1M  \n",
              "18157      1,00,000                 0.1M  \n",
              "18158      1,00,000                 0.1M  \n",
              "18161      1,00,000                 0.1M  \n",
              "18162      1,00,000                 0.1M  \n",
              "\n",
              "[3946 rows x 7 columns]"
            ]
          },
          "execution_count": 82,
          "metadata": {},
          "output_type": "execute_result"
        }
      ],
      "source": [
        "genre=input(\"Enter which type of movie u want to show:\")\n",
        "df[df[\"Genre\"]==genre]"
      ]
    },
    {
      "cell_type": "code",
      "execution_count": null,
      "metadata": {
        "colab": {
          "base_uri": "https://localhost:8080/"
        },
        "id": "CupOgXNCIE04",
        "outputId": "5b8ca130-a064-4c6e-b66b-a1876f96938b"
      },
      "outputs": [
        {
          "name": "stdout",
          "output_type": "stream",
          "text": [
            "<class 'pandas.core.frame.DataFrame'>\n",
            "RangeIndex: 18164 entries, 0 to 18163\n",
            "Data columns (total 7 columns):\n",
            " #   Column                Non-Null Count  Dtype  \n",
            "---  ------                --------------  -----  \n",
            " 0   Rank                  18164 non-null  int64  \n",
            " 1   Title                 18164 non-null  object \n",
            " 2   Type                  18164 non-null  object \n",
            " 3   Premiere              18030 non-null  float64\n",
            " 4   Genre                 17984 non-null  object \n",
            " 5   Watchtime             18164 non-null  object \n",
            " 6   Watchtime in Million  18164 non-null  object \n",
            "dtypes: float64(1), int64(1), object(5)\n",
            "memory usage: 993.5+ KB\n"
          ]
        }
      ],
      "source": [
        "df.info('Genre')\n"
      ]
    },
    {
      "cell_type": "code",
      "execution_count": null,
      "metadata": {
        "colab": {
          "base_uri": "https://localhost:8080/"
        },
        "id": "FVI9e49UItF3",
        "outputId": "b76d17ab-3388-46c2-da03-48f463521d3e"
      },
      "outputs": [
        {
          "data": {
            "text/plain": [
              "array(['Thriller', 'Crime', 'Action', 'Comedy', 'Adventure', 'Animation',\n",
              "       'Drama', 'History', 'Musical', 'War', 'Horror', 'Romance',\n",
              "       'Science Fiction', 'Fantasy', 'Documentary', 'Family', 'Stand-Up',\n",
              "       'Sports', 'Biography', 'Western', 'Superhero', nan, 'Concerts',\n",
              "       'Fairy Tale', 'Reality-Show'], dtype=object)"
            ]
          },
          "execution_count": 84,
          "metadata": {},
          "output_type": "execute_result"
        }
      ],
      "source": [
        "df1=df[df[\"Type\"]==\"Movie\"]\n",
        "df1.Genre.unique()"
      ]
    },
    {
      "cell_type": "code",
      "execution_count": null,
      "metadata": {
        "id": "WHUUa1aLcmVN"
      },
      "outputs": [],
      "source": []
    }
  ],
  "metadata": {
    "colab": {
      "provenance": []
    },
    "kernelspec": {
      "display_name": "Python 3",
      "name": "python3"
    },
    "language_info": {
      "name": "python"
    }
  },
  "nbformat": 4,
  "nbformat_minor": 0
}
